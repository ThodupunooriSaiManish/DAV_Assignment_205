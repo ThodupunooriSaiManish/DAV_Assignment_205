{
  "nbformat": 4,
  "nbformat_minor": 0,
  "metadata": {
    "colab": {
      "provenance": [],
      "authorship_tag": "ABX9TyPqXe6zc0zToKi+AIRsh2XR",
      "include_colab_link": true
    },
    "kernelspec": {
      "name": "python3",
      "display_name": "Python 3"
    },
    "language_info": {
      "name": "python"
    }
  },
  "cells": [
    {
      "cell_type": "markdown",
      "metadata": {
        "id": "view-in-github",
        "colab_type": "text"
      },
      "source": [
        "<a href=\"https://colab.research.google.com/github/ThodupunooriSaiManish/DAV_Assignment_205/blob/main/DAV_Assignment_205(Combining_Datasets).ipynb\" target=\"_parent\"><img src=\"https://colab.research.google.com/assets/colab-badge.svg\" alt=\"Open In Colab\"/></a>"
      ]
    },
    {
      "cell_type": "code",
      "execution_count": null,
      "metadata": {
        "colab": {
          "base_uri": "https://localhost:8080/",
          "height": 73
        },
        "id": "Y2IZzr2dixRj",
        "outputId": "88bfedaa-20eb-41c4-d03d-7a1cf86ed327"
      },
      "outputs": [
        {
          "output_type": "display_data",
          "data": {
            "text/plain": [
              "<IPython.core.display.HTML object>"
            ],
            "text/html": [
              "\n",
              "     <input type=\"file\" id=\"files-321d60ca-10f6-4ec3-8a74-3113837342a1\" name=\"files[]\" multiple disabled\n",
              "        style=\"border:none\" />\n",
              "     <output id=\"result-321d60ca-10f6-4ec3-8a74-3113837342a1\">\n",
              "      Upload widget is only available when the cell has been executed in the\n",
              "      current browser session. Please rerun this cell to enable.\n",
              "      </output>\n",
              "      <script>// Copyright 2017 Google LLC\n",
              "//\n",
              "// Licensed under the Apache License, Version 2.0 (the \"License\");\n",
              "// you may not use this file except in compliance with the License.\n",
              "// You may obtain a copy of the License at\n",
              "//\n",
              "//      http://www.apache.org/licenses/LICENSE-2.0\n",
              "//\n",
              "// Unless required by applicable law or agreed to in writing, software\n",
              "// distributed under the License is distributed on an \"AS IS\" BASIS,\n",
              "// WITHOUT WARRANTIES OR CONDITIONS OF ANY KIND, either express or implied.\n",
              "// See the License for the specific language governing permissions and\n",
              "// limitations under the License.\n",
              "\n",
              "/**\n",
              " * @fileoverview Helpers for google.colab Python module.\n",
              " */\n",
              "(function(scope) {\n",
              "function span(text, styleAttributes = {}) {\n",
              "  const element = document.createElement('span');\n",
              "  element.textContent = text;\n",
              "  for (const key of Object.keys(styleAttributes)) {\n",
              "    element.style[key] = styleAttributes[key];\n",
              "  }\n",
              "  return element;\n",
              "}\n",
              "\n",
              "// Max number of bytes which will be uploaded at a time.\n",
              "const MAX_PAYLOAD_SIZE = 100 * 1024;\n",
              "\n",
              "function _uploadFiles(inputId, outputId) {\n",
              "  const steps = uploadFilesStep(inputId, outputId);\n",
              "  const outputElement = document.getElementById(outputId);\n",
              "  // Cache steps on the outputElement to make it available for the next call\n",
              "  // to uploadFilesContinue from Python.\n",
              "  outputElement.steps = steps;\n",
              "\n",
              "  return _uploadFilesContinue(outputId);\n",
              "}\n",
              "\n",
              "// This is roughly an async generator (not supported in the browser yet),\n",
              "// where there are multiple asynchronous steps and the Python side is going\n",
              "// to poll for completion of each step.\n",
              "// This uses a Promise to block the python side on completion of each step,\n",
              "// then passes the result of the previous step as the input to the next step.\n",
              "function _uploadFilesContinue(outputId) {\n",
              "  const outputElement = document.getElementById(outputId);\n",
              "  const steps = outputElement.steps;\n",
              "\n",
              "  const next = steps.next(outputElement.lastPromiseValue);\n",
              "  return Promise.resolve(next.value.promise).then((value) => {\n",
              "    // Cache the last promise value to make it available to the next\n",
              "    // step of the generator.\n",
              "    outputElement.lastPromiseValue = value;\n",
              "    return next.value.response;\n",
              "  });\n",
              "}\n",
              "\n",
              "/**\n",
              " * Generator function which is called between each async step of the upload\n",
              " * process.\n",
              " * @param {string} inputId Element ID of the input file picker element.\n",
              " * @param {string} outputId Element ID of the output display.\n",
              " * @return {!Iterable<!Object>} Iterable of next steps.\n",
              " */\n",
              "function* uploadFilesStep(inputId, outputId) {\n",
              "  const inputElement = document.getElementById(inputId);\n",
              "  inputElement.disabled = false;\n",
              "\n",
              "  const outputElement = document.getElementById(outputId);\n",
              "  outputElement.innerHTML = '';\n",
              "\n",
              "  const pickedPromise = new Promise((resolve) => {\n",
              "    inputElement.addEventListener('change', (e) => {\n",
              "      resolve(e.target.files);\n",
              "    });\n",
              "  });\n",
              "\n",
              "  const cancel = document.createElement('button');\n",
              "  inputElement.parentElement.appendChild(cancel);\n",
              "  cancel.textContent = 'Cancel upload';\n",
              "  const cancelPromise = new Promise((resolve) => {\n",
              "    cancel.onclick = () => {\n",
              "      resolve(null);\n",
              "    };\n",
              "  });\n",
              "\n",
              "  // Wait for the user to pick the files.\n",
              "  const files = yield {\n",
              "    promise: Promise.race([pickedPromise, cancelPromise]),\n",
              "    response: {\n",
              "      action: 'starting',\n",
              "    }\n",
              "  };\n",
              "\n",
              "  cancel.remove();\n",
              "\n",
              "  // Disable the input element since further picks are not allowed.\n",
              "  inputElement.disabled = true;\n",
              "\n",
              "  if (!files) {\n",
              "    return {\n",
              "      response: {\n",
              "        action: 'complete',\n",
              "      }\n",
              "    };\n",
              "  }\n",
              "\n",
              "  for (const file of files) {\n",
              "    const li = document.createElement('li');\n",
              "    li.append(span(file.name, {fontWeight: 'bold'}));\n",
              "    li.append(span(\n",
              "        `(${file.type || 'n/a'}) - ${file.size} bytes, ` +\n",
              "        `last modified: ${\n",
              "            file.lastModifiedDate ? file.lastModifiedDate.toLocaleDateString() :\n",
              "                                    'n/a'} - `));\n",
              "    const percent = span('0% done');\n",
              "    li.appendChild(percent);\n",
              "\n",
              "    outputElement.appendChild(li);\n",
              "\n",
              "    const fileDataPromise = new Promise((resolve) => {\n",
              "      const reader = new FileReader();\n",
              "      reader.onload = (e) => {\n",
              "        resolve(e.target.result);\n",
              "      };\n",
              "      reader.readAsArrayBuffer(file);\n",
              "    });\n",
              "    // Wait for the data to be ready.\n",
              "    let fileData = yield {\n",
              "      promise: fileDataPromise,\n",
              "      response: {\n",
              "        action: 'continue',\n",
              "      }\n",
              "    };\n",
              "\n",
              "    // Use a chunked sending to avoid message size limits. See b/62115660.\n",
              "    let position = 0;\n",
              "    do {\n",
              "      const length = Math.min(fileData.byteLength - position, MAX_PAYLOAD_SIZE);\n",
              "      const chunk = new Uint8Array(fileData, position, length);\n",
              "      position += length;\n",
              "\n",
              "      const base64 = btoa(String.fromCharCode.apply(null, chunk));\n",
              "      yield {\n",
              "        response: {\n",
              "          action: 'append',\n",
              "          file: file.name,\n",
              "          data: base64,\n",
              "        },\n",
              "      };\n",
              "\n",
              "      let percentDone = fileData.byteLength === 0 ?\n",
              "          100 :\n",
              "          Math.round((position / fileData.byteLength) * 100);\n",
              "      percent.textContent = `${percentDone}% done`;\n",
              "\n",
              "    } while (position < fileData.byteLength);\n",
              "  }\n",
              "\n",
              "  // All done.\n",
              "  yield {\n",
              "    response: {\n",
              "      action: 'complete',\n",
              "    }\n",
              "  };\n",
              "}\n",
              "\n",
              "scope.google = scope.google || {};\n",
              "scope.google.colab = scope.google.colab || {};\n",
              "scope.google.colab._files = {\n",
              "  _uploadFiles,\n",
              "  _uploadFilesContinue,\n",
              "};\n",
              "})(self);\n",
              "</script> "
            ]
          },
          "metadata": {}
        },
        {
          "output_type": "stream",
          "name": "stdout",
          "text": [
            "Saving Fraud Detection Dataset.csv to Fraud Detection Dataset.csv\n"
          ]
        }
      ],
      "source": [
        "from google.colab import files\n",
        "uploaded = files.upload()"
      ]
    },
    {
      "cell_type": "code",
      "source": [
        "import pandas as pd\n",
        "\n",
        "df = pd.read_csv('Fraud Detection Dataset.csv')"
      ],
      "metadata": {
        "id": "n5zoYUPJnets"
      },
      "execution_count": null,
      "outputs": []
    },
    {
      "cell_type": "code",
      "source": [
        "print(\"🔹 First 5 rows of the dataset:\")\n",
        "print(df.head())\n",
        "print(\"\\n🔹 Columns:\")\n",
        "print(df.columns.tolist())\n"
      ],
      "metadata": {
        "colab": {
          "base_uri": "https://localhost:8080/"
        },
        "id": "-FUnGttmtp9B",
        "outputId": "a711d7b1-80ba-4dbd-cbeb-30803f783398"
      },
      "execution_count": null,
      "outputs": [
        {
          "output_type": "stream",
          "name": "stdout",
          "text": [
            "🔹 First 5 rows of the dataset:\n",
            "  Transaction_ID  User_ID  Transaction_Amount Transaction_Type  \\\n",
            "0             T1     4174             1292.76   ATM Withdrawal   \n",
            "1             T2     4507             1554.58   ATM Withdrawal   \n",
            "2             T3     1860             2395.02   ATM Withdrawal   \n",
            "3             T4     2294              100.10     Bill Payment   \n",
            "4             T5     2130             1490.50      POS Payment   \n",
            "\n",
            "   Time_of_Transaction Device_Used       Location  \\\n",
            "0                 16.0      Tablet  San Francisco   \n",
            "1                 13.0      Mobile       New York   \n",
            "2                  NaN      Mobile            NaN   \n",
            "3                 15.0     Desktop        Chicago   \n",
            "4                 19.0      Mobile  San Francisco   \n",
            "\n",
            "   Previous_Fraudulent_Transactions  Account_Age  \\\n",
            "0                                 0          119   \n",
            "1                                 4           79   \n",
            "2                                 3          115   \n",
            "3                                 4            3   \n",
            "4                                 2           57   \n",
            "\n",
            "   Number_of_Transactions_Last_24H Payment_Method  Fraudulent  \n",
            "0                               13     Debit Card           0  \n",
            "1                                3    Credit Card           0  \n",
            "2                                9            NaN           0  \n",
            "3                                4            UPI           0  \n",
            "4                                7    Credit Card           0  \n",
            "\n",
            "🔹 Columns:\n",
            "['Transaction_ID', 'User_ID', 'Transaction_Amount', 'Transaction_Type', 'Time_of_Transaction', 'Device_Used', 'Location', 'Previous_Fraudulent_Transactions', 'Account_Age', 'Number_of_Transactions_Last_24H', 'Payment_Method', 'Fraudulent']\n"
          ]
        }
      ]
    },
    {
      "cell_type": "code",
      "source": [
        "# Create subsets\n",
        "df_part1 = df.iloc[:5].copy()\n",
        "df_part2 = df.iloc[5:10].copy()"
      ],
      "metadata": {
        "id": "pg2JrOwitt_-"
      },
      "execution_count": null,
      "outputs": []
    },
    {
      "cell_type": "code",
      "source": [
        "# Concat vertically\n",
        "concat_vertical = pd.concat([df_part1, df_part2], axis=0)\n",
        "print(\"\\n Concat Vertical:\")\n",
        "print(concat_vertical)\n"
      ],
      "metadata": {
        "colab": {
          "base_uri": "https://localhost:8080/"
        },
        "id": "6--AR-Agtw_H",
        "outputId": "8e99144f-864b-4b14-daf2-7e1c9498a6ed"
      },
      "execution_count": null,
      "outputs": [
        {
          "output_type": "stream",
          "name": "stdout",
          "text": [
            "\n",
            " Concat Vertical:\n",
            "  Transaction_ID  User_ID  Transaction_Amount Transaction_Type  \\\n",
            "0             T1     4174             1292.76   ATM Withdrawal   \n",
            "1             T2     4507             1554.58   ATM Withdrawal   \n",
            "2             T3     1860             2395.02   ATM Withdrawal   \n",
            "3             T4     2294              100.10     Bill Payment   \n",
            "4             T5     2130             1490.50      POS Payment   \n",
            "5             T6     2095             2372.04   ATM Withdrawal   \n",
            "6             T7     4772              544.81     Bill Payment   \n",
            "7             T8     4092              635.75   ATM Withdrawal   \n",
            "8             T9     2638             2318.87    Bank Transfer   \n",
            "9            T10     3169             3656.17     Bill Payment   \n",
            "\n",
            "   Time_of_Transaction Device_Used       Location  \\\n",
            "0                 16.0      Tablet  San Francisco   \n",
            "1                 13.0      Mobile       New York   \n",
            "2                  NaN      Mobile            NaN   \n",
            "3                 15.0     Desktop        Chicago   \n",
            "4                 19.0      Mobile  San Francisco   \n",
            "5                 15.0     Desktop         Boston   \n",
            "6                  2.0      Tablet         Boston   \n",
            "7                 13.0      Tablet         Boston   \n",
            "8                  NaN      Mobile  San Francisco   \n",
            "9                  3.0      Mobile        Chicago   \n",
            "\n",
            "   Previous_Fraudulent_Transactions  Account_Age  \\\n",
            "0                                 0          119   \n",
            "1                                 4           79   \n",
            "2                                 3          115   \n",
            "3                                 4            3   \n",
            "4                                 2           57   \n",
            "5                                 3           96   \n",
            "6                                 3            6   \n",
            "7                                 2           13   \n",
            "8                                 4          110   \n",
            "9                                 4           66   \n",
            "\n",
            "   Number_of_Transactions_Last_24H Payment_Method  Fraudulent  \n",
            "0                               13     Debit Card           0  \n",
            "1                                3    Credit Card           0  \n",
            "2                                9            NaN           0  \n",
            "3                                4            UPI           0  \n",
            "4                                7    Credit Card           0  \n",
            "5                               14    Credit Card           0  \n",
            "6                                9            UPI           1  \n",
            "7                               10     Debit Card           0  \n",
            "8                               12     Debit Card           0  \n",
            "9                                3    Net Banking           0  \n"
          ]
        }
      ]
    },
    {
      "cell_type": "code",
      "source": [
        "# Concat horizontally\n",
        "concat_horizontal = pd.concat([df_part1.reset_index(drop=True), df_part2.reset_index(drop=True)], axis=1)\n",
        "print(\"\\n Concat Horizontal:\")\n",
        "print(concat_horizontal)"
      ],
      "metadata": {
        "colab": {
          "base_uri": "https://localhost:8080/"
        },
        "id": "aEMpNWoit2w3",
        "outputId": "14e55b0e-63df-446e-ac0c-765521b3baac"
      },
      "execution_count": null,
      "outputs": [
        {
          "output_type": "stream",
          "name": "stdout",
          "text": [
            "\n",
            " Concat Horizontal:\n",
            "  Transaction_ID  User_ID Transaction_Amount  Transaction_Type  \\\n",
            "0             T1     4174            1292.76    ATM Withdrawal   \n",
            "1             T2     4507            1554.58    ATM Withdrawal   \n",
            "2             T3     1860            2395.02    ATM Withdrawal   \n",
            "3             T4     2294             100.10      Bill Payment   \n",
            "4             T5     2130            1490.50       POS Payment   \n",
            "\n",
            "  Time_of_Transaction  Device_Used       Location  \\\n",
            "0                16.0       Tablet  San Francisco   \n",
            "1                13.0       Mobile       New York   \n",
            "2                 NaN       Mobile            NaN   \n",
            "3                15.0      Desktop        Chicago   \n",
            "4                19.0       Mobile  San Francisco   \n",
            "\n",
            "  Previous_Fraudulent_Transactions  Account_Age  \\\n",
            "0                                0          119   \n",
            "1                                4           79   \n",
            "2                                3          115   \n",
            "3                                4            3   \n",
            "4                                2           57   \n",
            "\n",
            "  Number_of_Transactions_Last_24H  ... Transaction_Amount  Transaction_Type  \\\n",
            "0                              13  ...            2372.04    ATM Withdrawal   \n",
            "1                               3  ...             544.81      Bill Payment   \n",
            "2                               9  ...             635.75    ATM Withdrawal   \n",
            "3                               4  ...            2318.87     Bank Transfer   \n",
            "4                               7  ...            3656.17      Bill Payment   \n",
            "\n",
            "  Time_of_Transaction  Device_Used       Location  \\\n",
            "0                15.0      Desktop         Boston   \n",
            "1                 2.0       Tablet         Boston   \n",
            "2                13.0       Tablet         Boston   \n",
            "3                 NaN       Mobile  San Francisco   \n",
            "4                 3.0       Mobile        Chicago   \n",
            "\n",
            "  Previous_Fraudulent_Transactions  Account_Age  \\\n",
            "0                                3           96   \n",
            "1                                3            6   \n",
            "2                                2           13   \n",
            "3                                4          110   \n",
            "4                                4           66   \n",
            "\n",
            "  Number_of_Transactions_Last_24H Payment_Method  Fraudulent  \n",
            "0                              14    Credit Card           0  \n",
            "1                               9            UPI           1  \n",
            "2                              10     Debit Card           0  \n",
            "3                              12     Debit Card           0  \n",
            "4                               3    Net Banking           0  \n",
            "\n",
            "[5 rows x 24 columns]\n"
          ]
        }
      ]
    },
    {
      "cell_type": "code",
      "source": [
        "# Append (equivalent to concat)\n",
        "appended_df = pd.concat([df_part1, df_part2])\n",
        "print(\"\\n Appended DataFrame:\")\n",
        "print(appended_df)"
      ],
      "metadata": {
        "colab": {
          "base_uri": "https://localhost:8080/"
        },
        "id": "CwtTN48It8i9",
        "outputId": "c19a8258-48c9-432b-ff97-5c054e738c5b"
      },
      "execution_count": null,
      "outputs": [
        {
          "output_type": "stream",
          "name": "stdout",
          "text": [
            "\n",
            " Appended DataFrame:\n",
            "  Transaction_ID  User_ID  Transaction_Amount Transaction_Type  \\\n",
            "0             T1     4174             1292.76   ATM Withdrawal   \n",
            "1             T2     4507             1554.58   ATM Withdrawal   \n",
            "2             T3     1860             2395.02   ATM Withdrawal   \n",
            "3             T4     2294              100.10     Bill Payment   \n",
            "4             T5     2130             1490.50      POS Payment   \n",
            "5             T6     2095             2372.04   ATM Withdrawal   \n",
            "6             T7     4772              544.81     Bill Payment   \n",
            "7             T8     4092              635.75   ATM Withdrawal   \n",
            "8             T9     2638             2318.87    Bank Transfer   \n",
            "9            T10     3169             3656.17     Bill Payment   \n",
            "\n",
            "   Time_of_Transaction Device_Used       Location  \\\n",
            "0                 16.0      Tablet  San Francisco   \n",
            "1                 13.0      Mobile       New York   \n",
            "2                  NaN      Mobile            NaN   \n",
            "3                 15.0     Desktop        Chicago   \n",
            "4                 19.0      Mobile  San Francisco   \n",
            "5                 15.0     Desktop         Boston   \n",
            "6                  2.0      Tablet         Boston   \n",
            "7                 13.0      Tablet         Boston   \n",
            "8                  NaN      Mobile  San Francisco   \n",
            "9                  3.0      Mobile        Chicago   \n",
            "\n",
            "   Previous_Fraudulent_Transactions  Account_Age  \\\n",
            "0                                 0          119   \n",
            "1                                 4           79   \n",
            "2                                 3          115   \n",
            "3                                 4            3   \n",
            "4                                 2           57   \n",
            "5                                 3           96   \n",
            "6                                 3            6   \n",
            "7                                 2           13   \n",
            "8                                 4          110   \n",
            "9                                 4           66   \n",
            "\n",
            "   Number_of_Transactions_Last_24H Payment_Method  Fraudulent  \n",
            "0                               13     Debit Card           0  \n",
            "1                                3    Credit Card           0  \n",
            "2                                9            NaN           0  \n",
            "3                                4            UPI           0  \n",
            "4                                7    Credit Card           0  \n",
            "5                               14    Credit Card           0  \n",
            "6                                9            UPI           1  \n",
            "7                               10     Debit Card           0  \n",
            "8                               12     Debit Card           0  \n",
            "9                                3    Net Banking           0  \n"
          ]
        }
      ]
    },
    {
      "cell_type": "code",
      "source": [
        "# Merge based on Transaction_ID\n",
        "df_merge1 = df[['Transaction_ID', 'User_ID', 'Transaction_Amount']].iloc[:5].copy()\n",
        "df_merge2 = df[['Transaction_ID', 'Transaction_Type', 'Fraudulent']].iloc[:5].copy()\n",
        "merged_df = pd.merge(df_merge1, df_merge2, on='Transaction_ID', how='inner')\n",
        "print(\"\\n Merged DataFrame:\")\n",
        "print(merged_df)"
      ],
      "metadata": {
        "colab": {
          "base_uri": "https://localhost:8080/"
        },
        "id": "2VAMssXauBpo",
        "outputId": "cc082eda-bba2-4df1-f1e3-f2552ddb2228"
      },
      "execution_count": null,
      "outputs": [
        {
          "output_type": "stream",
          "name": "stdout",
          "text": [
            "\n",
            " Merged DataFrame:\n",
            "  Transaction_ID  User_ID  Transaction_Amount Transaction_Type  Fraudulent\n",
            "0             T1     4174             1292.76   ATM Withdrawal           0\n",
            "1             T2     4507             1554.58   ATM Withdrawal           0\n",
            "2             T3     1860             2395.02   ATM Withdrawal           0\n",
            "3             T4     2294              100.10     Bill Payment           0\n",
            "4             T5     2130             1490.50      POS Payment           0\n"
          ]
        }
      ]
    },
    {
      "cell_type": "code",
      "source": [
        "# Join using index\n",
        "df_merge1_idx = df_merge1.set_index('Transaction_ID')\n",
        "df_merge2_idx = df_merge2.set_index('Transaction_ID')\n",
        "joined_df = df_merge1_idx.join(df_merge2_idx, how='inner')\n",
        "print(\"\\n Joined DataFrame (on index):\")\n",
        "print(joined_df)"
      ],
      "metadata": {
        "colab": {
          "base_uri": "https://localhost:8080/"
        },
        "id": "ERt270hiuIuv",
        "outputId": "ea908b5b-97e6-4fdf-c314-a2d3f4ab43e2"
      },
      "execution_count": null,
      "outputs": [
        {
          "output_type": "stream",
          "name": "stdout",
          "text": [
            "\n",
            " Joined DataFrame (on index):\n",
            "                User_ID  Transaction_Amount Transaction_Type  Fraudulent\n",
            "Transaction_ID                                                          \n",
            "T1                 4174             1292.76   ATM Withdrawal           0\n",
            "T2                 4507             1554.58   ATM Withdrawal           0\n",
            "T3                 1860             2395.02   ATM Withdrawal           0\n",
            "T4                 2294              100.10     Bill Payment           0\n",
            "T5                 2130             1490.50      POS Payment           0\n"
          ]
        }
      ]
    },
    {
      "cell_type": "code",
      "source": [
        "#  STEP 3: AGGREGATION AND GROUPING\n",
        "\n",
        "agg_result = df.groupby('Transaction_Type')['Transaction_Amount'].agg(['mean', 'max', 'min'])\n",
        "print(\"\\n Aggregation (mean, max, min) by Transaction Type:\")\n",
        "print(agg_result)\n"
      ],
      "metadata": {
        "colab": {
          "base_uri": "https://localhost:8080/"
        },
        "id": "L9aT-PsKuMWG",
        "outputId": "fc57b352-7dd0-47e6-9e47-e1a7a39dbd2c"
      },
      "execution_count": null,
      "outputs": [
        {
          "output_type": "stream",
          "name": "stdout",
          "text": [
            "\n",
            " Aggregation (mean, max, min) by Transaction Type:\n",
            "                         mean      max   min\n",
            "Transaction_Type                            \n",
            "ATM Withdrawal    2977.734152  49997.8  5.08\n",
            "Bank Transfer     3032.651571  49997.8  5.52\n",
            "Bill Payment      3038.556278  49997.8  5.23\n",
            "Online Purchase   2988.188041  49997.8  5.03\n",
            "POS Payment       2942.371743  49997.8  5.04\n"
          ]
        }
      ]
    },
    {
      "cell_type": "code",
      "source": [
        "#  STEP 4: PIVOT TABLE\n",
        "\n",
        "pivot_table = pd.pivot_table(df,\n",
        "                              values='Transaction_Amount',\n",
        "                              index='Device_Used',\n",
        "                              columns='Payment_Method',\n",
        "                              aggfunc='mean')\n",
        "print(\"\\n Pivot Table (Avg Transaction Amount by Device & Payment Method):\")\n",
        "print(pivot_table)"
      ],
      "metadata": {
        "colab": {
          "base_uri": "https://localhost:8080/"
        },
        "id": "fkm85frwuRKS",
        "outputId": "d2bcfa9a-807e-4c31-ae14-4310cb74e2a7"
      },
      "execution_count": null,
      "outputs": [
        {
          "output_type": "stream",
          "name": "stdout",
          "text": [
            "\n",
            " Pivot Table (Avg Transaction Amount by Device & Payment Method):\n",
            "Payment_Method  Credit Card   Debit Card  Invalid Method  Net Banking  \\\n",
            "Device_Used                                                             \n",
            "Desktop         3084.315162  3052.959960     2993.530638  2896.305835   \n",
            "Mobile          3000.030658  2938.878493     3362.946958  2870.089618   \n",
            "Tablet          2990.772888  3007.787078     2833.454764  3018.821398   \n",
            "Unknown Device  3061.655559  3102.543234     2441.068000  3468.624880   \n",
            "\n",
            "Payment_Method          UPI  \n",
            "Device_Used                  \n",
            "Desktop         2977.207359  \n",
            "Mobile          3200.024867  \n",
            "Tablet          2815.039924  \n",
            "Unknown Device  2550.925890  \n"
          ]
        }
      ]
    },
    {
      "cell_type": "code",
      "source": [
        "#  STEP 5: VECTORIZED STRING OPERATIONS\n",
        "\n",
        "df['Location'] = df['Location'].astype(str)  # Ensure string type\n",
        "contains_san = df[df['Location'].str.contains(\"San\", case=False, na=False)]\n",
        "print(\"\\n Locations containing 'San':\")\n",
        "print(contains_san[['Transaction_ID', 'Location']])"
      ],
      "metadata": {
        "colab": {
          "base_uri": "https://localhost:8080/"
        },
        "id": "-IabMKDWy1vU",
        "outputId": "29b4bdbf-2c22-4629-ac31-db550e78bebd"
      },
      "execution_count": null,
      "outputs": [
        {
          "output_type": "stream",
          "name": "stdout",
          "text": [
            "\n",
            " Locations containing 'San':\n",
            "                    Transaction_ID       Location\n",
            "Transaction_Date                                 \n",
            "2023-01-01 00:00:00             T1  San Francisco\n",
            "2023-01-01 04:00:00             T5  San Francisco\n",
            "2023-01-01 08:00:00             T9  San Francisco\n",
            "2023-01-01 11:00:00            T12  San Francisco\n",
            "2023-01-01 14:00:00            T15  San Francisco\n",
            "...                            ...            ...\n",
            "2028-10-24 21:00:00          T4581  San Francisco\n",
            "2028-10-25 08:00:00         T18786  San Francisco\n",
            "2028-10-25 12:00:00         T11626  San Francisco\n",
            "2028-10-25 14:00:00         T12629  San Francisco\n",
            "2028-10-25 21:00:00         T12293  San Francisco\n",
            "\n",
            "[5985 rows x 2 columns]\n"
          ]
        }
      ]
    },
    {
      "cell_type": "code",
      "source": [
        "#  STEP 6: WORKING WITH TIME SERIES\n",
        "\n",
        "# Add a fake date column (since original dataset doesn't have it)\n",
        "df['Transaction_Date'] = pd.date_range(start=\"2023-01-01\", periods=len(df), freq='h')\n",
        "df.set_index('Transaction_Date', inplace=True)"
      ],
      "metadata": {
        "id": "6hL9yhiTy9Rb"
      },
      "execution_count": null,
      "outputs": []
    },
    {
      "cell_type": "code",
      "source": [
        "# Resample to get daily transaction count\n",
        "daily_txn_count = df['Transaction_ID'].resample('D').count()\n",
        "print(\"\\n Daily Transaction Counts:\")\n",
        "print(daily_txn_count)"
      ],
      "metadata": {
        "colab": {
          "base_uri": "https://localhost:8080/"
        },
        "id": "8xsc9uPAzCSk",
        "outputId": "190f39cd-e12d-4d72-9ea1-a0abf597d748"
      },
      "execution_count": null,
      "outputs": [
        {
          "output_type": "stream",
          "name": "stdout",
          "text": [
            "\n",
            " Daily Transaction Counts:\n",
            "Transaction_Date\n",
            "2023-01-01    24\n",
            "2023-01-02    24\n",
            "2023-01-03    24\n",
            "2023-01-04    24\n",
            "2023-01-05    24\n",
            "              ..\n",
            "2028-10-21    24\n",
            "2028-10-22    24\n",
            "2028-10-23    24\n",
            "2028-10-24    24\n",
            "2028-10-25    24\n",
            "Freq: D, Name: Transaction_ID, Length: 2125, dtype: int64\n"
          ]
        }
      ]
    },
    {
      "cell_type": "code",
      "source": [
        "#  STEP 7: HIGH PERFORMANCE FUNCTIONS — query() & eval()\n",
        "\n",
        "# Filter high-value transactions using query()\n",
        "high_value_txns = df.query(\"Transaction_Amount > 2000\")\n",
        "print(\"\\n High Value Transactions (Amount > 2000):\")\n",
        "print(high_value_txns[['Transaction_ID', 'Transaction_Amount']])"
      ],
      "metadata": {
        "colab": {
          "base_uri": "https://localhost:8080/"
        },
        "id": "16LXQZBezaiF",
        "outputId": "ee3e64de-86b0-4988-c96a-77f755c0f6d4"
      },
      "execution_count": null,
      "outputs": [
        {
          "output_type": "stream",
          "name": "stdout",
          "text": [
            "\n",
            " High Value Transactions (Amount > 2000):\n",
            "                    Transaction_ID  Transaction_Amount\n",
            "Transaction_Date                                      \n",
            "2023-01-01 02:00:00             T3             2395.02\n",
            "2023-01-01 05:00:00             T6             2372.04\n",
            "2023-01-01 08:00:00             T9             2318.87\n",
            "2023-01-01 09:00:00            T10             3656.17\n",
            "2023-01-01 11:00:00            T12             2733.84\n",
            "...                            ...                 ...\n",
            "2028-10-25 17:00:00          T5873             3613.59\n",
            "2028-10-25 19:00:00         T33982             3112.51\n",
            "2028-10-25 20:00:00         T31261             2897.15\n",
            "2028-10-25 21:00:00         T12293             2204.43\n",
            "2028-10-25 22:00:00         T42287             4787.17\n",
            "\n",
            "[29275 rows x 2 columns]\n"
          ]
        }
      ]
    },
    {
      "cell_type": "code",
      "source": [
        "# Use eval() to compute a new 'Risk_Score'\n",
        "df.eval(\"Risk_Score = Previous_Fraudulent_Transactions * 2 + Number_of_Transactions_Last_24H\", inplace=True)\n",
        "print(\"\\nDataFrame with calculated Risk_Score:\")\n",
        "print(df[['Transaction_ID', 'Previous_Fraudulent_Transactions', 'Number_of_Transactions_Last_24H', 'Risk_Score']].head())\n"
      ],
      "metadata": {
        "colab": {
          "base_uri": "https://localhost:8080/"
        },
        "id": "x9RJvgVszlII",
        "outputId": "fe27a0a1-dfb0-4e2f-d7d7-e94adb1ec0a2"
      },
      "execution_count": null,
      "outputs": [
        {
          "output_type": "stream",
          "name": "stdout",
          "text": [
            "\n",
            "DataFrame with calculated Risk_Score:\n",
            "                    Transaction_ID  Previous_Fraudulent_Transactions  \\\n",
            "Transaction_Date                                                       \n",
            "2023-01-01 00:00:00             T1                                 0   \n",
            "2023-01-01 01:00:00             T2                                 4   \n",
            "2023-01-01 02:00:00             T3                                 3   \n",
            "2023-01-01 03:00:00             T4                                 4   \n",
            "2023-01-01 04:00:00             T5                                 2   \n",
            "\n",
            "                     Number_of_Transactions_Last_24H  Risk_Score  \n",
            "Transaction_Date                                                  \n",
            "2023-01-01 00:00:00                               13          13  \n",
            "2023-01-01 01:00:00                                3          11  \n",
            "2023-01-01 02:00:00                                9          15  \n",
            "2023-01-01 03:00:00                                4          12  \n",
            "2023-01-01 04:00:00                                7          11  \n"
          ]
        }
      ]
    },
    {
      "cell_type": "code",
      "source": [
        "#  1. Using apply() for custom row-wise operations\n",
        "def classify_transaction(row):\n",
        "    if row['Transaction_Amount'] > 3000:\n",
        "        return \"High\"\n",
        "    elif row['Transaction_Amount'] > 1000:\n",
        "        return \"Medium\"\n",
        "    else:\n",
        "        return \"Low\"\n",
        "\n",
        "df['Transaction_Level'] = df.apply(classify_transaction, axis=1)\n",
        "print(\"\\n Transaction_Level column added using apply():\")\n",
        "print(df[['Transaction_ID', 'Transaction_Amount', 'Transaction_Level']].head())\n"
      ],
      "metadata": {
        "colab": {
          "base_uri": "https://localhost:8080/"
        },
        "id": "b3h7TNWTzqgG",
        "outputId": "2b792bba-681b-42f8-89c0-27d65b07d5bd"
      },
      "execution_count": null,
      "outputs": [
        {
          "output_type": "stream",
          "name": "stdout",
          "text": [
            "\n",
            " Transaction_Level column added using apply():\n",
            "                    Transaction_ID  Transaction_Amount Transaction_Level\n",
            "Transaction_Date                                                        \n",
            "2023-01-01 00:00:00             T1             1292.76            Medium\n",
            "2023-01-01 01:00:00             T2             1554.58            Medium\n",
            "2023-01-01 02:00:00             T3             2395.02            Medium\n",
            "2023-01-01 03:00:00             T4              100.10               Low\n",
            "2023-01-01 04:00:00             T5             1490.50            Medium\n"
          ]
        }
      ]
    },
    {
      "cell_type": "code",
      "source": [
        "#  2. Value Counts and Normalization\n",
        "fraud_counts = df['Fraudulent'].value_counts()\n",
        "fraud_normalized = df['Fraudulent'].value_counts(normalize=True)\n",
        "\n",
        "print(\"\\n Count of Fraudulent vs Non-Fraudulent transactions:\")\n",
        "print(fraud_counts)\n",
        "\n",
        "print(\"\\n Normalized proportion (in %):\")\n",
        "print(fraud_normalized * 100)"
      ],
      "metadata": {
        "colab": {
          "base_uri": "https://localhost:8080/"
        },
        "id": "6aXblOB605o7",
        "outputId": "77907a21-6746-49e7-8ed6-8acf37ab0859"
      },
      "execution_count": null,
      "outputs": [
        {
          "output_type": "stream",
          "name": "stdout",
          "text": [
            "\n",
            " Count of Fraudulent vs Non-Fraudulent transactions:\n",
            "Fraudulent\n",
            "0    48490\n",
            "1     2510\n",
            "Name: count, dtype: int64\n",
            "\n",
            " Normalized proportion (in %):\n",
            "Fraudulent\n",
            "0    95.078431\n",
            "1     4.921569\n",
            "Name: proportion, dtype: float64\n"
          ]
        }
      ]
    },
    {
      "cell_type": "code",
      "source": [
        "#  3. Crosstab between two columns\n",
        "# -----------------------------------------------\n",
        "fraud_device_crosstab = pd.crosstab(df['Fraudulent'], df['Device_Used'])\n",
        "print(\"\\n Crosstab of Fraudulent vs Device Used:\")\n",
        "print(fraud_device_crosstab)"
      ],
      "metadata": {
        "colab": {
          "base_uri": "https://localhost:8080/"
        },
        "id": "5WRlo-Jb1Eib",
        "outputId": "581815e3-f4fd-4fe5-8208-a20b4ecad60d"
      },
      "execution_count": null,
      "outputs": [
        {
          "output_type": "stream",
          "name": "stdout",
          "text": [
            "\n",
            " Crosstab of Fraudulent vs Device Used:\n",
            "Device_Used  Desktop  Mobile  Tablet  Unknown Device\n",
            "Fraudulent                                          \n",
            "0              15047   14808   14859            1455\n",
            "1                748     806     729              75\n"
          ]
        }
      ]
    },
    {
      "cell_type": "code",
      "source": [
        "#  4. Handling Missing Values (if any)\n",
        "# -----------------------------------------------\n",
        "missing_info = df.isnull().sum()\n",
        "print(\"\\n Missing values in each column:\")\n",
        "print(missing_info[missing_info > 0])"
      ],
      "metadata": {
        "colab": {
          "base_uri": "https://localhost:8080/"
        },
        "id": "p2GQSH8u1LBs",
        "outputId": "80f14570-2b05-44b2-cc0f-c50e5dd82292"
      },
      "execution_count": null,
      "outputs": [
        {
          "output_type": "stream",
          "name": "stdout",
          "text": [
            "\n",
            " Missing values in each column:\n",
            "Transaction_Amount     2520\n",
            "Time_of_Transaction    2552\n",
            "Device_Used            2473\n",
            "Payment_Method         2469\n",
            "dtype: int64\n"
          ]
        }
      ]
    },
    {
      "cell_type": "code",
      "source": [
        "# 5. Sorting\n",
        "sorted_by_amount = df.sort_values(by='Transaction_Amount', ascending=False)\n",
        "print(\"\\n Top 5 transactions by amount:\")\n",
        "print(sorted_by_amount[['Transaction_ID', 'Transaction_Amount']].head())\n"
      ],
      "metadata": {
        "colab": {
          "base_uri": "https://localhost:8080/"
        },
        "id": "pFVqwx6Y1Qhj",
        "outputId": "313c774c-591c-4dd3-97db-e6e1830b167d"
      },
      "execution_count": null,
      "outputs": [
        {
          "output_type": "stream",
          "name": "stdout",
          "text": [
            "\n",
            " Top 5 transactions by amount:\n",
            "                    Transaction_ID  Transaction_Amount\n",
            "Transaction_Date                                      \n",
            "2023-11-03 04:00:00          T7349             49997.8\n",
            "2024-08-10 16:00:00         T14105             49997.8\n",
            "2023-11-09 14:00:00          T7503             49997.8\n",
            "2023-11-09 20:00:00          T7509             49997.8\n",
            "2026-07-07 21:00:00         T30814             49997.8\n"
          ]
        }
      ]
    },
    {
      "cell_type": "code",
      "source": [
        "# 6. Duplicates Check\n",
        "duplicate_rows = df[df.duplicated()]\n",
        "print(\"\\n Duplicate rows in dataset:\")\n",
        "print(duplicate_rows)"
      ],
      "metadata": {
        "colab": {
          "base_uri": "https://localhost:8080/"
        },
        "id": "P0Kjr3K_1ZcG",
        "outputId": "371f491b-870b-4858-f535-141d2f6c5fa2"
      },
      "execution_count": null,
      "outputs": [
        {
          "output_type": "stream",
          "name": "stdout",
          "text": [
            "\n",
            " Duplicate rows in dataset:\n",
            "                    Transaction_ID  User_ID  Transaction_Amount  \\\n",
            "Transaction_Date                                                  \n",
            "2028-09-14 08:00:00         T33554     2669             2425.71   \n",
            "2028-09-14 09:00:00          T9428     1001             2448.53   \n",
            "2028-09-14 10:00:00           T200     3790             4429.89   \n",
            "2028-09-14 11:00:00         T12448     1743              108.00   \n",
            "2028-09-14 12:00:00         T39490     4329             2320.30   \n",
            "...                            ...      ...                 ...   \n",
            "2028-10-25 17:00:00          T5873     4911             3613.59   \n",
            "2028-10-25 18:00:00         T48244     4842             1587.84   \n",
            "2028-10-25 19:00:00         T33982     2339             3112.51   \n",
            "2028-10-25 20:00:00         T31261     2152             2897.15   \n",
            "2028-10-25 22:00:00         T42287     1518             4787.17   \n",
            "\n",
            "                    Transaction_Type  Time_of_Transaction Device_Used  \\\n",
            "Transaction_Date                                                        \n",
            "2028-09-14 08:00:00    Bank Transfer                 14.0      Tablet   \n",
            "2028-09-14 09:00:00    Bank Transfer                 19.0      Mobile   \n",
            "2028-09-14 10:00:00   ATM Withdrawal                 17.0         NaN   \n",
            "2028-09-14 11:00:00   ATM Withdrawal                 15.0      Tablet   \n",
            "2028-09-14 12:00:00   ATM Withdrawal                  4.0     Desktop   \n",
            "...                              ...                  ...         ...   \n",
            "2028-10-25 17:00:00  Online Purchase                 11.0      Tablet   \n",
            "2028-10-25 18:00:00      POS Payment                 10.0      Tablet   \n",
            "2028-10-25 19:00:00     Bill Payment                 15.0      Mobile   \n",
            "2028-10-25 20:00:00  Online Purchase                  3.0      Mobile   \n",
            "2028-10-25 22:00:00      POS Payment                 19.0      Tablet   \n",
            "\n",
            "                          Location  Previous_Fraudulent_Transactions  \\\n",
            "Transaction_Date                                                       \n",
            "2028-09-14 08:00:00        Seattle                                 2   \n",
            "2028-09-14 09:00:00  San Francisco                                 4   \n",
            "2028-09-14 10:00:00          Miami                                 1   \n",
            "2028-09-14 11:00:00    Los Angeles                                 3   \n",
            "2028-09-14 12:00:00    Los Angeles                                 3   \n",
            "...                            ...                               ...   \n",
            "2028-10-25 17:00:00       New York                                 3   \n",
            "2028-10-25 18:00:00       New York                                 1   \n",
            "2028-10-25 19:00:00       New York                                 0   \n",
            "2028-10-25 20:00:00          Miami                                 1   \n",
            "2028-10-25 22:00:00       New York                                 2   \n",
            "\n",
            "                     Account_Age  Number_of_Transactions_Last_24H  \\\n",
            "Transaction_Date                                                    \n",
            "2028-09-14 08:00:00           40                                7   \n",
            "2028-09-14 09:00:00            7                                3   \n",
            "2028-09-14 10:00:00           39                                6   \n",
            "2028-09-14 11:00:00           67                                9   \n",
            "2028-09-14 12:00:00           12                               10   \n",
            "...                          ...                              ...   \n",
            "2028-10-25 17:00:00           58                                7   \n",
            "2028-10-25 18:00:00           94                                6   \n",
            "2028-10-25 19:00:00            7                                8   \n",
            "2028-10-25 20:00:00           75                               11   \n",
            "2028-10-25 22:00:00          108                               14   \n",
            "\n",
            "                    Payment_Method  Fraudulent  Risk_Score Transaction_Level  \n",
            "Transaction_Date                                                              \n",
            "2028-09-14 08:00:00            UPI           0          11            Medium  \n",
            "2028-09-14 09:00:00            NaN           0          11            Medium  \n",
            "2028-09-14 10:00:00            UPI           1           8              High  \n",
            "2028-09-14 11:00:00    Credit Card           0          15               Low  \n",
            "2028-09-14 12:00:00            NaN           0          16            Medium  \n",
            "...                            ...         ...         ...               ...  \n",
            "2028-10-25 17:00:00    Net Banking           0          13              High  \n",
            "2028-10-25 18:00:00            UPI           0           8            Medium  \n",
            "2028-10-25 19:00:00     Debit Card           0           8              High  \n",
            "2028-10-25 20:00:00    Net Banking           1          13            Medium  \n",
            "2028-10-25 22:00:00    Net Banking           0          18              High  \n",
            "\n",
            "[881 rows x 14 columns]\n"
          ]
        }
      ]
    },
    {
      "cell_type": "code",
      "source": [
        "# 7. Binning (Creating Ranges)\n",
        "# -----------------------------------------------\n",
        "df['Amount_Range'] = pd.cut(df['Transaction_Amount'],\n",
        "                             bins=[0, 1000, 3000, 10000],\n",
        "                             labels=['Low', 'Medium', 'High'])\n",
        "print(\"\\n Amount Range created using binning:\")\n",
        "print(df[['Transaction_ID', 'Transaction_Amount', 'Amount_Range']].head())"
      ],
      "metadata": {
        "colab": {
          "base_uri": "https://localhost:8080/"
        },
        "id": "aB0r3RB01gyG",
        "outputId": "2bee462f-cef5-430d-a1c6-566c83ff32e4"
      },
      "execution_count": null,
      "outputs": [
        {
          "output_type": "stream",
          "name": "stdout",
          "text": [
            "\n",
            " Amount Range created using binning:\n",
            "                    Transaction_ID  Transaction_Amount Amount_Range\n",
            "Transaction_Date                                                   \n",
            "2023-01-01 00:00:00             T1             1292.76       Medium\n",
            "2023-01-01 01:00:00             T2             1554.58       Medium\n",
            "2023-01-01 02:00:00             T3             2395.02       Medium\n",
            "2023-01-01 03:00:00             T4              100.10          Low\n",
            "2023-01-01 04:00:00             T5             1490.50       Medium\n"
          ]
        }
      ]
    },
    {
      "cell_type": "code",
      "source": [
        "#  8. Groupby Multiple Columns\n",
        "multi_group = df.groupby(['Device_Used', 'Fraudulent'])['Transaction_Amount'].agg(['count', 'mean', 'sum'])\n",
        "print(\"\\n Grouped by Device and Fraudulent status:\")\n",
        "print(multi_group)"
      ],
      "metadata": {
        "colab": {
          "base_uri": "https://localhost:8080/"
        },
        "id": "aDr7H5Xu1uYO",
        "outputId": "62403697-9284-4e2b-9bb5-333e4307a16a"
      },
      "execution_count": null,
      "outputs": [
        {
          "output_type": "stream",
          "name": "stdout",
          "text": [
            "\n",
            " Grouped by Device and Fraudulent status:\n",
            "                           count         mean          sum\n",
            "Device_Used    Fraudulent                                 \n",
            "Desktop        0           14301  3000.051465  42903736.00\n",
            "               1             713  2889.498513   2060212.44\n",
            "Mobile         0           14091  3012.135873  42444006.59\n",
            "               1             765  3235.595359   2475230.45\n",
            "Tablet         0           14120  2972.799101  41975923.30\n",
            "               1             695  3042.683050   2114664.72\n",
            "Unknown Device 0            1397  2922.764846   4083102.49\n",
            "               1              70  4403.385429    308236.98\n"
          ]
        }
      ]
    }
  ]
}