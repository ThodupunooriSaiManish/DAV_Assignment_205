{
  "nbformat": 4,
  "nbformat_minor": 0,
  "metadata": {
    "colab": {
      "provenance": [],
      "authorship_tag": "ABX9TyPTHeGbz4lilJRSGojMvHvk",
      "include_colab_link": true
    },
    "kernelspec": {
      "name": "python3",
      "display_name": "Python 3"
    },
    "language_info": {
      "name": "python"
    }
  },
  "cells": [
    {
      "cell_type": "markdown",
      "metadata": {
        "id": "view-in-github",
        "colab_type": "text"
      },
      "source": [
        "<a href=\"https://colab.research.google.com/github/ThodupunooriSaiManish/DAV_Assignment_205/blob/main/DAV_Assigment_205.ipynb\" target=\"_parent\"><img src=\"https://colab.research.google.com/assets/colab-badge.svg\" alt=\"Open In Colab\"/></a>"
      ]
    },
    {
      "cell_type": "code",
      "source": [
        "from google.colab import files\n",
        "uploaded = files.upload()"
      ],
      "metadata": {
        "colab": {
          "base_uri": "https://localhost:8080/",
          "height": 73
        },
        "id": "_W6i78nQHZpT",
        "outputId": "f2b5a2b0-b9d9-4d05-ad07-49cb6e011364"
      },
      "execution_count": null,
      "outputs": [
        {
          "output_type": "display_data",
          "data": {
            "text/plain": [
              "<IPython.core.display.HTML object>"
            ],
            "text/html": [
              "\n",
              "     <input type=\"file\" id=\"files-f3ff3748-4937-48ae-9895-107b00a1c662\" name=\"files[]\" multiple disabled\n",
              "        style=\"border:none\" />\n",
              "     <output id=\"result-f3ff3748-4937-48ae-9895-107b00a1c662\">\n",
              "      Upload widget is only available when the cell has been executed in the\n",
              "      current browser session. Please rerun this cell to enable.\n",
              "      </output>\n",
              "      <script>// Copyright 2017 Google LLC\n",
              "//\n",
              "// Licensed under the Apache License, Version 2.0 (the \"License\");\n",
              "// you may not use this file except in compliance with the License.\n",
              "// You may obtain a copy of the License at\n",
              "//\n",
              "//      http://www.apache.org/licenses/LICENSE-2.0\n",
              "//\n",
              "// Unless required by applicable law or agreed to in writing, software\n",
              "// distributed under the License is distributed on an \"AS IS\" BASIS,\n",
              "// WITHOUT WARRANTIES OR CONDITIONS OF ANY KIND, either express or implied.\n",
              "// See the License for the specific language governing permissions and\n",
              "// limitations under the License.\n",
              "\n",
              "/**\n",
              " * @fileoverview Helpers for google.colab Python module.\n",
              " */\n",
              "(function(scope) {\n",
              "function span(text, styleAttributes = {}) {\n",
              "  const element = document.createElement('span');\n",
              "  element.textContent = text;\n",
              "  for (const key of Object.keys(styleAttributes)) {\n",
              "    element.style[key] = styleAttributes[key];\n",
              "  }\n",
              "  return element;\n",
              "}\n",
              "\n",
              "// Max number of bytes which will be uploaded at a time.\n",
              "const MAX_PAYLOAD_SIZE = 100 * 1024;\n",
              "\n",
              "function _uploadFiles(inputId, outputId) {\n",
              "  const steps = uploadFilesStep(inputId, outputId);\n",
              "  const outputElement = document.getElementById(outputId);\n",
              "  // Cache steps on the outputElement to make it available for the next call\n",
              "  // to uploadFilesContinue from Python.\n",
              "  outputElement.steps = steps;\n",
              "\n",
              "  return _uploadFilesContinue(outputId);\n",
              "}\n",
              "\n",
              "// This is roughly an async generator (not supported in the browser yet),\n",
              "// where there are multiple asynchronous steps and the Python side is going\n",
              "// to poll for completion of each step.\n",
              "// This uses a Promise to block the python side on completion of each step,\n",
              "// then passes the result of the previous step as the input to the next step.\n",
              "function _uploadFilesContinue(outputId) {\n",
              "  const outputElement = document.getElementById(outputId);\n",
              "  const steps = outputElement.steps;\n",
              "\n",
              "  const next = steps.next(outputElement.lastPromiseValue);\n",
              "  return Promise.resolve(next.value.promise).then((value) => {\n",
              "    // Cache the last promise value to make it available to the next\n",
              "    // step of the generator.\n",
              "    outputElement.lastPromiseValue = value;\n",
              "    return next.value.response;\n",
              "  });\n",
              "}\n",
              "\n",
              "/**\n",
              " * Generator function which is called between each async step of the upload\n",
              " * process.\n",
              " * @param {string} inputId Element ID of the input file picker element.\n",
              " * @param {string} outputId Element ID of the output display.\n",
              " * @return {!Iterable<!Object>} Iterable of next steps.\n",
              " */\n",
              "function* uploadFilesStep(inputId, outputId) {\n",
              "  const inputElement = document.getElementById(inputId);\n",
              "  inputElement.disabled = false;\n",
              "\n",
              "  const outputElement = document.getElementById(outputId);\n",
              "  outputElement.innerHTML = '';\n",
              "\n",
              "  const pickedPromise = new Promise((resolve) => {\n",
              "    inputElement.addEventListener('change', (e) => {\n",
              "      resolve(e.target.files);\n",
              "    });\n",
              "  });\n",
              "\n",
              "  const cancel = document.createElement('button');\n",
              "  inputElement.parentElement.appendChild(cancel);\n",
              "  cancel.textContent = 'Cancel upload';\n",
              "  const cancelPromise = new Promise((resolve) => {\n",
              "    cancel.onclick = () => {\n",
              "      resolve(null);\n",
              "    };\n",
              "  });\n",
              "\n",
              "  // Wait for the user to pick the files.\n",
              "  const files = yield {\n",
              "    promise: Promise.race([pickedPromise, cancelPromise]),\n",
              "    response: {\n",
              "      action: 'starting',\n",
              "    }\n",
              "  };\n",
              "\n",
              "  cancel.remove();\n",
              "\n",
              "  // Disable the input element since further picks are not allowed.\n",
              "  inputElement.disabled = true;\n",
              "\n",
              "  if (!files) {\n",
              "    return {\n",
              "      response: {\n",
              "        action: 'complete',\n",
              "      }\n",
              "    };\n",
              "  }\n",
              "\n",
              "  for (const file of files) {\n",
              "    const li = document.createElement('li');\n",
              "    li.append(span(file.name, {fontWeight: 'bold'}));\n",
              "    li.append(span(\n",
              "        `(${file.type || 'n/a'}) - ${file.size} bytes, ` +\n",
              "        `last modified: ${\n",
              "            file.lastModifiedDate ? file.lastModifiedDate.toLocaleDateString() :\n",
              "                                    'n/a'} - `));\n",
              "    const percent = span('0% done');\n",
              "    li.appendChild(percent);\n",
              "\n",
              "    outputElement.appendChild(li);\n",
              "\n",
              "    const fileDataPromise = new Promise((resolve) => {\n",
              "      const reader = new FileReader();\n",
              "      reader.onload = (e) => {\n",
              "        resolve(e.target.result);\n",
              "      };\n",
              "      reader.readAsArrayBuffer(file);\n",
              "    });\n",
              "    // Wait for the data to be ready.\n",
              "    let fileData = yield {\n",
              "      promise: fileDataPromise,\n",
              "      response: {\n",
              "        action: 'continue',\n",
              "      }\n",
              "    };\n",
              "\n",
              "    // Use a chunked sending to avoid message size limits. See b/62115660.\n",
              "    let position = 0;\n",
              "    do {\n",
              "      const length = Math.min(fileData.byteLength - position, MAX_PAYLOAD_SIZE);\n",
              "      const chunk = new Uint8Array(fileData, position, length);\n",
              "      position += length;\n",
              "\n",
              "      const base64 = btoa(String.fromCharCode.apply(null, chunk));\n",
              "      yield {\n",
              "        response: {\n",
              "          action: 'append',\n",
              "          file: file.name,\n",
              "          data: base64,\n",
              "        },\n",
              "      };\n",
              "\n",
              "      let percentDone = fileData.byteLength === 0 ?\n",
              "          100 :\n",
              "          Math.round((position / fileData.byteLength) * 100);\n",
              "      percent.textContent = `${percentDone}% done`;\n",
              "\n",
              "    } while (position < fileData.byteLength);\n",
              "  }\n",
              "\n",
              "  // All done.\n",
              "  yield {\n",
              "    response: {\n",
              "      action: 'complete',\n",
              "    }\n",
              "  };\n",
              "}\n",
              "\n",
              "scope.google = scope.google || {};\n",
              "scope.google.colab = scope.google.colab || {};\n",
              "scope.google.colab._files = {\n",
              "  _uploadFiles,\n",
              "  _uploadFilesContinue,\n",
              "};\n",
              "})(self);\n",
              "</script> "
            ]
          },
          "metadata": {}
        },
        {
          "output_type": "stream",
          "name": "stdout",
          "text": [
            "Saving Fraud Detection Dataset.csv to Fraud Detection Dataset.csv\n"
          ]
        }
      ]
    },
    {
      "cell_type": "code",
      "source": [
        "import pandas as pd\n",
        "import numpy as np\n",
        "\n",
        "# Load the CSV file (update filename accordingly)\n",
        "df = pd.read_csv(\"Fraud Detection Dataset.csv\")\n",
        "\n",
        "# Display first few rows\n",
        "print(df.head())"
      ],
      "metadata": {
        "colab": {
          "base_uri": "https://localhost:8080/"
        },
        "id": "fgYzasH6HuY-",
        "outputId": "5de02962-eb90-4c89-cb38-00f96915423a"
      },
      "execution_count": null,
      "outputs": [
        {
          "output_type": "stream",
          "name": "stdout",
          "text": [
            "  Transaction_ID  User_ID  Transaction_Amount Transaction_Type  \\\n",
            "0             T1     4174             1292.76   ATM Withdrawal   \n",
            "1             T2     4507             1554.58   ATM Withdrawal   \n",
            "2             T3     1860             2395.02   ATM Withdrawal   \n",
            "3             T4     2294              100.10     Bill Payment   \n",
            "4             T5     2130             1490.50      POS Payment   \n",
            "\n",
            "   Time_of_Transaction Device_Used       Location  \\\n",
            "0                 16.0      Tablet  San Francisco   \n",
            "1                 13.0      Mobile       New York   \n",
            "2                  NaN      Mobile            NaN   \n",
            "3                 15.0     Desktop        Chicago   \n",
            "4                 19.0      Mobile  San Francisco   \n",
            "\n",
            "   Previous_Fraudulent_Transactions  Account_Age  \\\n",
            "0                                 0          119   \n",
            "1                                 4           79   \n",
            "2                                 3          115   \n",
            "3                                 4            3   \n",
            "4                                 2           57   \n",
            "\n",
            "   Number_of_Transactions_Last_24H Payment_Method  Fraudulent  \n",
            "0                               13     Debit Card           0  \n",
            "1                                3    Credit Card           0  \n",
            "2                                9            NaN           0  \n",
            "3                                4            UPI           0  \n",
            "4                                7    Credit Card           0  \n"
          ]
        }
      ]
    },
    {
      "cell_type": "code",
      "source": [
        "# Extract numerical columns as NumPy arrays\n",
        "transaction_amounts = df[\"Transaction_Amount\"].fillna(0).to_numpy()\n",
        "fraud_labels = df[\"Fraudulent\"].to_numpy()\n",
        "account_ages = df[\"Account_Age\"].to_numpy()\n"
      ],
      "metadata": {
        "id": "J5y8FLWqH2Kh"
      },
      "execution_count": null,
      "outputs": []
    },
    {
      "cell_type": "code",
      "source": [
        "# Fixed type structured array\n",
        "structured_array = np.array(\n",
        "    list(zip(transaction_amounts, fraud_labels, account_ages)),\n",
        "    dtype=[(\"Transaction_Amount\", \"f8\"), (\"Fraudulent\", \"i4\"), (\"Account_Age\", \"i4\")]\n",
        ")\n"
      ],
      "metadata": {
        "id": "Ib8ppCDoIG62"
      },
      "execution_count": null,
      "outputs": []
    },
    {
      "cell_type": "code",
      "source": [
        "# Indexing\n",
        "indexed_values = transaction_amounts[:5]"
      ],
      "metadata": {
        "id": "PqhoSZbAII2c"
      },
      "execution_count": null,
      "outputs": []
    },
    {
      "cell_type": "code",
      "source": [
        "# Slicing\n",
        "sliced_values = fraud_labels[:10]"
      ],
      "metadata": {
        "id": "7vUnwa_lINF4"
      },
      "execution_count": null,
      "outputs": []
    },
    {
      "cell_type": "code",
      "source": [
        "# Reshaping\n",
        "reshaped_array = transaction_amounts[:15].reshape(5, 3)"
      ],
      "metadata": {
        "id": "4f1b54KMIQ3f"
      },
      "execution_count": null,
      "outputs": []
    },
    {
      "cell_type": "code",
      "source": [
        "# Concatenation\n",
        "concatenated_array = np.concatenate((transaction_amounts[:5], account_ages[:5]))"
      ],
      "metadata": {
        "id": "OV29YdwHIVS6"
      },
      "execution_count": null,
      "outputs": []
    },
    {
      "cell_type": "code",
      "source": [
        "# Splitting\n",
        "split_arrays = np.split(transaction_amounts[:10], 2)\n"
      ],
      "metadata": {
        "id": "xwQ7nb6iIYyp"
      },
      "execution_count": null,
      "outputs": []
    },
    {
      "cell_type": "code",
      "source": [
        "# Universal functions (UFUNCs)\n",
        "mean_transaction = np.mean(transaction_amounts)\n",
        "sum_transactions = np.sum(transaction_amounts)\n"
      ],
      "metadata": {
        "id": "Rfnzj3FyIcbc"
      },
      "execution_count": null,
      "outputs": []
    },
    {
      "cell_type": "code",
      "source": [
        "# Broadcasting\n",
        "broadcasted_array = account_ages + 10"
      ],
      "metadata": {
        "id": "OpmCFAoOIfo-"
      },
      "execution_count": null,
      "outputs": []
    },
    {
      "cell_type": "code",
      "source": [
        "# Boolean Masking\n",
        "high_value_transactions = transaction_amounts[transaction_amounts > 2000]"
      ],
      "metadata": {
        "id": "s0UoJ2mjIjrY"
      },
      "execution_count": null,
      "outputs": []
    },
    {
      "cell_type": "code",
      "source": [
        "# Fancy Indexing\n",
        "fancy_indexing_example = transaction_amounts[[0, 5, 10]]"
      ],
      "metadata": {
        "id": "aEWccbv7Imtm"
      },
      "execution_count": null,
      "outputs": []
    },
    {
      "cell_type": "code",
      "source": [
        "# Sorting\n",
        "sorted_transactions = np.sort(transaction_amounts)"
      ],
      "metadata": {
        "id": "aRMmBovQIqBX"
      },
      "execution_count": null,
      "outputs": []
    },
    {
      "cell_type": "code",
      "source": [
        "# Partial Sorting (Top 5 highest transactions)\n",
        "top_5_transactions = np.partition(transaction_amounts, -5)[-5:]"
      ],
      "metadata": {
        "id": "Z5yK1YfsIvnz"
      },
      "execution_count": null,
      "outputs": []
    },
    {
      "cell_type": "code",
      "source": [
        "# Additional NumPy Operations\n",
        "# Mathematical Functions\n",
        "sqrt_transactions = np.sqrt(transaction_amounts)\n",
        "log_transactions = np.log(transaction_amounts + 1)\n"
      ],
      "metadata": {
        "id": "hkjU7BtdIxCu"
      },
      "execution_count": null,
      "outputs": []
    },
    {
      "cell_type": "code",
      "source": [
        "# Statistical Functions\n",
        "median_transaction = np.median(transaction_amounts)\n",
        "std_transaction = np.std(transaction_amounts)"
      ],
      "metadata": {
        "id": "1j1pFR0wI2Bf"
      },
      "execution_count": null,
      "outputs": []
    },
    {
      "cell_type": "code",
      "source": [
        "# Linear Algebra\n",
        "dot_product = np.dot(account_ages[:5], fraud_labels[:5])"
      ],
      "metadata": {
        "id": "ZITMsDq3I5bB"
      },
      "execution_count": null,
      "outputs": []
    },
    {
      "cell_type": "code",
      "source": [
        "# Random Numbers\n",
        "random_values = np.random.normal(loc=50, scale=10, size=5)\n"
      ],
      "metadata": {
        "id": "s3SpPPkbI8sP"
      },
      "execution_count": null,
      "outputs": []
    },
    {
      "cell_type": "code",
      "source": [
        "# Advanced Indexing\n",
        "high_value_indices = np.where(transaction_amounts > 2000)\n",
        "taken_values = np.take(transaction_amounts, [0, 5, 10])\n"
      ],
      "metadata": {
        "id": "cr5Ex_DhI_KG"
      },
      "execution_count": null,
      "outputs": []
    },
    {
      "cell_type": "code",
      "source": [
        "# Stacking Arrays\n",
        "hstacked_array = np.hstack((account_ages[:5].reshape(-1, 1), fraud_labels[:5].reshape(-1, 1)))"
      ],
      "metadata": {
        "id": "An49XI6BJCc_"
      },
      "execution_count": null,
      "outputs": []
    },
    {
      "cell_type": "code",
      "source": [
        "# Unique and Counting\n",
        "unique_fraud_labels, fraud_counts = np.unique(fraud_labels, return_counts=True)\n"
      ],
      "metadata": {
        "id": "3HBeNrcqJItf"
      },
      "execution_count": null,
      "outputs": []
    },
    {
      "cell_type": "code",
      "source": [
        "# Clipping and Rounding\n",
        "clipped_transactions = np.clip(transaction_amounts, 0, 5000)\n",
        "rounded_transactions = np.round(transaction_amounts, 2)\n"
      ],
      "metadata": {
        "id": "O092u6TiJMBD"
      },
      "execution_count": null,
      "outputs": []
    },
    {
      "cell_type": "code",
      "source": [
        "# Finding Min/Max Locations\n",
        "max_index = np.argmax(transaction_amounts)\n",
        "min_index = np.argmin(transaction_amounts)\n"
      ],
      "metadata": {
        "id": "bnfq9nAvKanF"
      },
      "execution_count": null,
      "outputs": []
    },
    {
      "cell_type": "code",
      "source": [
        "# Tile & Repeat Functions\n",
        "repeated_array = np.repeat(transaction_amounts[:5], 3)\n",
        "tiled_array = np.tile(transaction_amounts[:5], 3)\n"
      ],
      "metadata": {
        "id": "gCriR-L5Kdmc"
      },
      "execution_count": null,
      "outputs": []
    },
    {
      "cell_type": "code",
      "source": [
        "# Correlation and Covariance\n",
        "correlation = np.corrcoef(df[\"Account_Age\"], df[\"Fraudulent\"])[0, 1]\n",
        "covariance = np.cov(transaction_amounts, fraud_labels)[0, 1]\n"
      ],
      "metadata": {
        "id": "ZjZW3HjSKhYy"
      },
      "execution_count": null,
      "outputs": []
    },
    {
      "cell_type": "code",
      "source": [
        "# Generating Custom NumPy Arrays\n",
        "zeros_array = np.zeros(10)\n",
        "ones_array = np.ones(10)\n",
        "linspace_array = np.linspace(0, 100, 10)\n",
        "logspace_array = np.logspace(1, 3, 10)\n"
      ],
      "metadata": {
        "id": "kvQLKgWlKld8"
      },
      "execution_count": null,
      "outputs": []
    },
    {
      "cell_type": "code",
      "source": [
        "# Printing results\n",
        "print(\"Indexed Values:\", indexed_values)\n",
        "print()\n",
        "print(\"Sliced Values:\", sliced_values)\n",
        "print()\n",
        "print(\"Reshaped Array:\\n\", reshaped_array)\n",
        "print()\n",
        "print(\"Mean Transaction Amount:\", mean_transaction)\n",
        "print()\n",
        "print(\"Sum of Transactions:\", sum_transactions)"
      ],
      "metadata": {
        "colab": {
          "base_uri": "https://localhost:8080/"
        },
        "id": "Cb-a7rGpJR4B",
        "outputId": "07937aad-11d9-4be0-c609-8a230c14f770"
      },
      "execution_count": null,
      "outputs": [
        {
          "output_type": "stream",
          "name": "stdout",
          "text": [
            "Indexed Values: [1292.76 1554.58 2395.02  100.1  1490.5 ]\n",
            "\n",
            "Sliced Values: [0 0 0 0 0 0 1 0 0 0]\n",
            "\n",
            "Reshaped Array:\n",
            " [[1292.76 1554.58 2395.02]\n",
            " [ 100.1  1490.5  2372.04]\n",
            " [ 544.81  635.75 2318.87]\n",
            " [3656.17    0.   2733.84]\n",
            " [2376.37 1924.48  968.78]]\n",
            "\n",
            "Mean Transaction Amount: 2848.1997950980394\n",
            "\n",
            "Sum of Transactions: 145258189.55\n"
          ]
        }
      ]
    },
    {
      "cell_type": "code",
      "source": [
        "print(\"High Value Transactions:\", high_value_transactions[:5])\n",
        "print()\n",
        "print(\"Top 5 Transactions:\", top_5_transactions)\n",
        "print()\n",
        "print(\"Square Root Transactions:\", sqrt_transactions[:5])\n",
        "print()\n",
        "print(\"Log Transactions:\", log_transactions[:5])\n",
        "print()\n",
        "print(\"Median Transaction Amount:\", median_transaction)\n",
        "print()"
      ],
      "metadata": {
        "colab": {
          "base_uri": "https://localhost:8080/"
        },
        "id": "X733F6gsRzsj",
        "outputId": "71c3596d-6b34-47f6-b371-0b3114360831"
      },
      "execution_count": null,
      "outputs": [
        {
          "output_type": "stream",
          "name": "stdout",
          "text": [
            "High Value Transactions: [2395.02 2372.04 2318.87 3656.17 2733.84]\n",
            "\n",
            "Top 5 Transactions: [49997.8 49997.8 49997.8 49997.8 49997.8]\n",
            "\n",
            "Square Root Transactions: [35.95497184 39.42816252 48.93894155 10.00499875 38.60699418]\n",
            "\n",
            "Log Transactions: [7.16530799 7.34960375 7.78156431 4.61611013 7.3075376 ]\n",
            "\n",
            "Median Transaction Amount: 2392.0600000000004\n",
            "\n"
          ]
        }
      ]
    },
    {
      "cell_type": "code",
      "source": [
        "print(\"Standard Deviation:\", std_transaction)\n",
        "print()\n",
        "print(\"Dot Product:\", dot_product)\n",
        "print()\n",
        "print(\"Random Values:\", random_values)\n",
        "print()\n",
        "print(\"High Value Indices:\", high_value_indices)\n",
        "print()\n",
        "print(\"Taken Values:\", taken_values)\n",
        "print()\n"
      ],
      "metadata": {
        "colab": {
          "base_uri": "https://localhost:8080/"
        },
        "id": "uP9SYshjRzmS",
        "outputId": "49872e6b-4d5e-4762-9f1c-5948716bfc94"
      },
      "execution_count": null,
      "outputs": [
        {
          "output_type": "stream",
          "name": "stdout",
          "text": [
            "Standard Deviation: 4960.376536284364\n",
            "\n",
            "Dot Product: 0\n",
            "\n",
            "Random Values: [38.20658443 31.03091709 49.78132788 40.27913498 57.15971118]\n",
            "\n",
            "High Value Indices: (array([    2,     5,     8, ..., 50996, 50997, 50998]),)\n",
            "\n",
            "Taken Values: [1292.76 2372.04    0.  ]\n",
            "\n"
          ]
        }
      ]
    },
    {
      "cell_type": "code",
      "source": [
        "print(\"Horizontally Stacked Array:\\n\", hstacked_array)\n",
        "print()\n",
        "print(\"Unique Fraud Labels and Counts:\", unique_fraud_labels, fraud_counts)\n",
        "print()\n",
        "print(\"Clipped Transactions:\", clipped_transactions[:5])\n",
        "print()\n",
        "print(\"Rounded Transactions:\", rounded_transactions[:5])\n",
        "print()\n",
        "print(\"Max Transaction Index:\", max_index)\n",
        "print()"
      ],
      "metadata": {
        "colab": {
          "base_uri": "https://localhost:8080/"
        },
        "id": "YXaN4PcJSE9J",
        "outputId": "fbff2a5a-fe26-4975-9abd-039f14a5bd2f"
      },
      "execution_count": null,
      "outputs": [
        {
          "output_type": "stream",
          "name": "stdout",
          "text": [
            "Horizontally Stacked Array:\n",
            " [[119   0]\n",
            " [ 79   0]\n",
            " [115   0]\n",
            " [  3   0]\n",
            " [ 57   0]]\n",
            "\n",
            "Unique Fraud Labels and Counts: [0 1] [48490  2510]\n",
            "\n",
            "Clipped Transactions: [1292.76 1554.58 2395.02  100.1  1490.5 ]\n",
            "\n",
            "Rounded Transactions: [1292.76 1554.58 2395.02  100.1  1490.5 ]\n",
            "\n",
            "Max Transaction Index: 166\n",
            "\n"
          ]
        }
      ]
    },
    {
      "cell_type": "code",
      "source": [
        "print(\"Min Transaction Index:\", min_index)\n",
        "print()\n",
        "print(\"Repeated Array:\", repeated_array)\n",
        "print()\n",
        "print(\"Tiled Array:\", tiled_array)\n",
        "print()\n",
        "print(\"Correlation:\", correlation)\n",
        "print()\n",
        "print(\"Covariance:\", covariance)"
      ],
      "metadata": {
        "colab": {
          "base_uri": "https://localhost:8080/"
        },
        "id": "EhLlC-vrSUdy",
        "outputId": "c9e66f4f-d83c-4998-e030-bd61676e4191"
      },
      "execution_count": null,
      "outputs": [
        {
          "output_type": "stream",
          "name": "stdout",
          "text": [
            "Min Transaction Index: 10\n",
            "\n",
            "Repeated Array: [1292.76 1292.76 1292.76 1554.58 1554.58 1554.58 2395.02 2395.02 2395.02\n",
            "  100.1   100.1   100.1  1490.5  1490.5  1490.5 ]\n",
            "\n",
            "Tiled Array: [1292.76 1554.58 2395.02  100.1  1490.5  1292.76 1554.58 2395.02  100.1\n",
            " 1490.5  1292.76 1554.58 2395.02  100.1  1490.5 ]\n",
            "\n",
            "Correlation: 0.006202800889533029\n",
            "\n",
            "Covariance: 5.6535303496916045\n"
          ]
        }
      ]
    },
    {
      "cell_type": "code",
      "source": [
        "print()\n",
        "print(\"Zeros Array:\", zeros_array)\n",
        "print()\n",
        "print(\"Ones Array:\", ones_array)\n",
        "print()\n",
        "print(\"Linspace Array:\", linspace_array)\n",
        "print()\n",
        "print(\"Logspace Array:\", logspace_array)"
      ],
      "metadata": {
        "colab": {
          "base_uri": "https://localhost:8080/"
        },
        "id": "0GydLAXWSY5x",
        "outputId": "8b74fd08-be71-4d18-9ace-fe023e48b1d7"
      },
      "execution_count": null,
      "outputs": [
        {
          "output_type": "stream",
          "name": "stdout",
          "text": [
            "\n",
            "Zeros Array: [0. 0. 0. 0. 0. 0. 0. 0. 0. 0.]\n",
            "\n",
            "Ones Array: [1. 1. 1. 1. 1. 1. 1. 1. 1. 1.]\n",
            "\n",
            "Linspace Array: [  0.          11.11111111  22.22222222  33.33333333  44.44444444\n",
            "  55.55555556  66.66666667  77.77777778  88.88888889 100.        ]\n",
            "\n",
            "Logspace Array: [  10.           16.68100537   27.82559402   46.41588834   77.42636827\n",
            "  129.1549665   215.443469    359.38136638  599.48425032 1000.        ]\n"
          ]
        }
      ]
    }
  ]
}