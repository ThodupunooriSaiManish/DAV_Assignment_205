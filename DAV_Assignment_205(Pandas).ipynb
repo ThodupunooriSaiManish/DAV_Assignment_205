{
  "nbformat": 4,
  "nbformat_minor": 0,
  "metadata": {
    "colab": {
      "provenance": [],
      "authorship_tag": "ABX9TyODCvOk+pUfYbVrKE5v/Fud",
      "include_colab_link": true
    },
    "kernelspec": {
      "name": "python3",
      "display_name": "Python 3"
    },
    "language_info": {
      "name": "python"
    }
  },
  "cells": [
    {
      "cell_type": "markdown",
      "metadata": {
        "id": "view-in-github",
        "colab_type": "text"
      },
      "source": [
        "<a href=\"https://colab.research.google.com/github/ThodupunooriSaiManish/DAV_Assignment_205/blob/main/DAV_Assignment_205(Pandas).ipynb\" target=\"_parent\"><img src=\"https://colab.research.google.com/assets/colab-badge.svg\" alt=\"Open In Colab\"/></a>"
      ]
    },
    {
      "cell_type": "code",
      "execution_count": null,
      "metadata": {
        "colab": {
          "base_uri": "https://localhost:8080/",
          "height": 73
        },
        "id": "yAs9OzQsM3fI",
        "outputId": "e12b3be6-c4a5-4903-eee8-4915b7c960c1"
      },
      "outputs": [
        {
          "output_type": "display_data",
          "data": {
            "text/plain": [
              "<IPython.core.display.HTML object>"
            ],
            "text/html": [
              "\n",
              "     <input type=\"file\" id=\"files-7f1e8608-26a6-44f1-97de-b20a1b4a2f6d\" name=\"files[]\" multiple disabled\n",
              "        style=\"border:none\" />\n",
              "     <output id=\"result-7f1e8608-26a6-44f1-97de-b20a1b4a2f6d\">\n",
              "      Upload widget is only available when the cell has been executed in the\n",
              "      current browser session. Please rerun this cell to enable.\n",
              "      </output>\n",
              "      <script>// Copyright 2017 Google LLC\n",
              "//\n",
              "// Licensed under the Apache License, Version 2.0 (the \"License\");\n",
              "// you may not use this file except in compliance with the License.\n",
              "// You may obtain a copy of the License at\n",
              "//\n",
              "//      http://www.apache.org/licenses/LICENSE-2.0\n",
              "//\n",
              "// Unless required by applicable law or agreed to in writing, software\n",
              "// distributed under the License is distributed on an \"AS IS\" BASIS,\n",
              "// WITHOUT WARRANTIES OR CONDITIONS OF ANY KIND, either express or implied.\n",
              "// See the License for the specific language governing permissions and\n",
              "// limitations under the License.\n",
              "\n",
              "/**\n",
              " * @fileoverview Helpers for google.colab Python module.\n",
              " */\n",
              "(function(scope) {\n",
              "function span(text, styleAttributes = {}) {\n",
              "  const element = document.createElement('span');\n",
              "  element.textContent = text;\n",
              "  for (const key of Object.keys(styleAttributes)) {\n",
              "    element.style[key] = styleAttributes[key];\n",
              "  }\n",
              "  return element;\n",
              "}\n",
              "\n",
              "// Max number of bytes which will be uploaded at a time.\n",
              "const MAX_PAYLOAD_SIZE = 100 * 1024;\n",
              "\n",
              "function _uploadFiles(inputId, outputId) {\n",
              "  const steps = uploadFilesStep(inputId, outputId);\n",
              "  const outputElement = document.getElementById(outputId);\n",
              "  // Cache steps on the outputElement to make it available for the next call\n",
              "  // to uploadFilesContinue from Python.\n",
              "  outputElement.steps = steps;\n",
              "\n",
              "  return _uploadFilesContinue(outputId);\n",
              "}\n",
              "\n",
              "// This is roughly an async generator (not supported in the browser yet),\n",
              "// where there are multiple asynchronous steps and the Python side is going\n",
              "// to poll for completion of each step.\n",
              "// This uses a Promise to block the python side on completion of each step,\n",
              "// then passes the result of the previous step as the input to the next step.\n",
              "function _uploadFilesContinue(outputId) {\n",
              "  const outputElement = document.getElementById(outputId);\n",
              "  const steps = outputElement.steps;\n",
              "\n",
              "  const next = steps.next(outputElement.lastPromiseValue);\n",
              "  return Promise.resolve(next.value.promise).then((value) => {\n",
              "    // Cache the last promise value to make it available to the next\n",
              "    // step of the generator.\n",
              "    outputElement.lastPromiseValue = value;\n",
              "    return next.value.response;\n",
              "  });\n",
              "}\n",
              "\n",
              "/**\n",
              " * Generator function which is called between each async step of the upload\n",
              " * process.\n",
              " * @param {string} inputId Element ID of the input file picker element.\n",
              " * @param {string} outputId Element ID of the output display.\n",
              " * @return {!Iterable<!Object>} Iterable of next steps.\n",
              " */\n",
              "function* uploadFilesStep(inputId, outputId) {\n",
              "  const inputElement = document.getElementById(inputId);\n",
              "  inputElement.disabled = false;\n",
              "\n",
              "  const outputElement = document.getElementById(outputId);\n",
              "  outputElement.innerHTML = '';\n",
              "\n",
              "  const pickedPromise = new Promise((resolve) => {\n",
              "    inputElement.addEventListener('change', (e) => {\n",
              "      resolve(e.target.files);\n",
              "    });\n",
              "  });\n",
              "\n",
              "  const cancel = document.createElement('button');\n",
              "  inputElement.parentElement.appendChild(cancel);\n",
              "  cancel.textContent = 'Cancel upload';\n",
              "  const cancelPromise = new Promise((resolve) => {\n",
              "    cancel.onclick = () => {\n",
              "      resolve(null);\n",
              "    };\n",
              "  });\n",
              "\n",
              "  // Wait for the user to pick the files.\n",
              "  const files = yield {\n",
              "    promise: Promise.race([pickedPromise, cancelPromise]),\n",
              "    response: {\n",
              "      action: 'starting',\n",
              "    }\n",
              "  };\n",
              "\n",
              "  cancel.remove();\n",
              "\n",
              "  // Disable the input element since further picks are not allowed.\n",
              "  inputElement.disabled = true;\n",
              "\n",
              "  if (!files) {\n",
              "    return {\n",
              "      response: {\n",
              "        action: 'complete',\n",
              "      }\n",
              "    };\n",
              "  }\n",
              "\n",
              "  for (const file of files) {\n",
              "    const li = document.createElement('li');\n",
              "    li.append(span(file.name, {fontWeight: 'bold'}));\n",
              "    li.append(span(\n",
              "        `(${file.type || 'n/a'}) - ${file.size} bytes, ` +\n",
              "        `last modified: ${\n",
              "            file.lastModifiedDate ? file.lastModifiedDate.toLocaleDateString() :\n",
              "                                    'n/a'} - `));\n",
              "    const percent = span('0% done');\n",
              "    li.appendChild(percent);\n",
              "\n",
              "    outputElement.appendChild(li);\n",
              "\n",
              "    const fileDataPromise = new Promise((resolve) => {\n",
              "      const reader = new FileReader();\n",
              "      reader.onload = (e) => {\n",
              "        resolve(e.target.result);\n",
              "      };\n",
              "      reader.readAsArrayBuffer(file);\n",
              "    });\n",
              "    // Wait for the data to be ready.\n",
              "    let fileData = yield {\n",
              "      promise: fileDataPromise,\n",
              "      response: {\n",
              "        action: 'continue',\n",
              "      }\n",
              "    };\n",
              "\n",
              "    // Use a chunked sending to avoid message size limits. See b/62115660.\n",
              "    let position = 0;\n",
              "    do {\n",
              "      const length = Math.min(fileData.byteLength - position, MAX_PAYLOAD_SIZE);\n",
              "      const chunk = new Uint8Array(fileData, position, length);\n",
              "      position += length;\n",
              "\n",
              "      const base64 = btoa(String.fromCharCode.apply(null, chunk));\n",
              "      yield {\n",
              "        response: {\n",
              "          action: 'append',\n",
              "          file: file.name,\n",
              "          data: base64,\n",
              "        },\n",
              "      };\n",
              "\n",
              "      let percentDone = fileData.byteLength === 0 ?\n",
              "          100 :\n",
              "          Math.round((position / fileData.byteLength) * 100);\n",
              "      percent.textContent = `${percentDone}% done`;\n",
              "\n",
              "    } while (position < fileData.byteLength);\n",
              "  }\n",
              "\n",
              "  // All done.\n",
              "  yield {\n",
              "    response: {\n",
              "      action: 'complete',\n",
              "    }\n",
              "  };\n",
              "}\n",
              "\n",
              "scope.google = scope.google || {};\n",
              "scope.google.colab = scope.google.colab || {};\n",
              "scope.google.colab._files = {\n",
              "  _uploadFiles,\n",
              "  _uploadFilesContinue,\n",
              "};\n",
              "})(self);\n",
              "</script> "
            ]
          },
          "metadata": {}
        },
        {
          "output_type": "stream",
          "name": "stdout",
          "text": [
            "Saving Fraud Detection Dataset.csv to Fraud Detection Dataset.csv\n"
          ]
        }
      ],
      "source": [
        "from google.colab import files\n",
        "uploaded = files.upload()"
      ]
    },
    {
      "cell_type": "code",
      "source": [
        "import pandas as pd\n",
        "import numpy as np\n",
        "\n",
        "# Load the CSV file (update filename accordingly)\n",
        "df = pd.read_csv(\"Fraud Detection Dataset.csv\")\n",
        "\n",
        "# Display first few rows\n",
        "print(df.head())\n"
      ],
      "metadata": {
        "colab": {
          "base_uri": "https://localhost:8080/"
        },
        "id": "-wqTh4BgOKN9",
        "outputId": "dcba8081-71cd-45f3-8f74-3f3990b333c7"
      },
      "execution_count": null,
      "outputs": [
        {
          "output_type": "stream",
          "name": "stdout",
          "text": [
            "  Transaction_ID  User_ID  Transaction_Amount Transaction_Type  \\\n",
            "0             T1     4174             1292.76   ATM Withdrawal   \n",
            "1             T2     4507             1554.58   ATM Withdrawal   \n",
            "2             T3     1860             2395.02   ATM Withdrawal   \n",
            "3             T4     2294              100.10     Bill Payment   \n",
            "4             T5     2130             1490.50      POS Payment   \n",
            "\n",
            "   Time_of_Transaction Device_Used       Location  \\\n",
            "0                 16.0      Tablet  San Francisco   \n",
            "1                 13.0      Mobile       New York   \n",
            "2                  NaN      Mobile            NaN   \n",
            "3                 15.0     Desktop        Chicago   \n",
            "4                 19.0      Mobile  San Francisco   \n",
            "\n",
            "   Previous_Fraudulent_Transactions  Account_Age  \\\n",
            "0                                 0          119   \n",
            "1                                 4           79   \n",
            "2                                 3          115   \n",
            "3                                 4            3   \n",
            "4                                 2           57   \n",
            "\n",
            "   Number_of_Transactions_Last_24H Payment_Method  Fraudulent  \n",
            "0                               13     Debit Card           0  \n",
            "1                                3    Credit Card           0  \n",
            "2                                9            NaN           0  \n",
            "3                                4            UPI           0  \n",
            "4                                7    Credit Card           0  \n"
          ]
        }
      ]
    },
    {
      "cell_type": "code",
      "source": [
        "# Extract numerical columns as NumPy arrays\n",
        "transaction_amounts = df[\"Transaction_Amount\"].fillna(0).to_numpy()\n",
        "fraud_labels = df[\"Fraudulent\"].to_numpy()\n",
        "account_ages = df[\"Account_Age\"].to_numpy()\n"
      ],
      "metadata": {
        "id": "PUTs7fTlOS4Q"
      },
      "execution_count": null,
      "outputs": []
    },
    {
      "cell_type": "code",
      "source": [
        "# Pandas Series Object\n",
        "transaction_series = pd.Series(transaction_amounts, name=\"Transaction_Amount\")\n",
        "fraud_series = pd.Series(fraud_labels, name=\"Fraudulent\")"
      ],
      "metadata": {
        "id": "nbQlhZj0Ow9H"
      },
      "execution_count": null,
      "outputs": []
    },
    {
      "cell_type": "code",
      "source": [
        "# Pandas DataFrame Object\n",
        "df_fraud = pd.DataFrame({\n",
        "    \"Transaction_Amount\": transaction_series,\n",
        "    \"Fraudulent\": fraud_series,\n",
        "    \"Account_Age\": account_ages\n",
        "})"
      ],
      "metadata": {
        "id": "xOk-bFjBO5Oc"
      },
      "execution_count": null,
      "outputs": []
    },
    {
      "cell_type": "code",
      "source": [
        "# Data Indexing and Selecting for Series and DataFrames\n",
        "indexed_transaction = transaction_series[5]  # Select a specific value\n",
        "sliced_dataframe = df_fraud.iloc[:10]  # Select first 10 rows"
      ],
      "metadata": {
        "id": "IBJur7LXO866"
      },
      "execution_count": null,
      "outputs": []
    },
    {
      "cell_type": "code",
      "source": [
        "# Universal Functions for Index Preservation\n",
        "sqrt_transaction = np.sqrt(df_fraud[\"Transaction_Amount\"])\n",
        "log_transaction = np.log1p(df_fraud[\"Transaction_Amount\"])\n",
        "df_fraud[\"Sqrt_Transaction\"] = sqrt_transaction\n",
        "df_fraud[\"Log_Transaction\"] = log_transaction"
      ],
      "metadata": {
        "id": "zo5o_gvjPL0M"
      },
      "execution_count": null,
      "outputs": []
    },
    {
      "cell_type": "code",
      "source": [
        "# Index Alignment and Operations between Series and DataFrames\n",
        "df_fraud[\"Normalized_Transaction\"] = (df_fraud[\"Transaction_Amount\"] - df_fraud[\"Transaction_Amount\"].mean()) / df_fraud[\"Transaction_Amount\"].std()"
      ],
      "metadata": {
        "id": "l_WLNNPLPNKE"
      },
      "execution_count": null,
      "outputs": []
    },
    {
      "cell_type": "code",
      "source": [
        "# Handling Missing Data\n",
        "df_fraud.fillna(0, inplace=True)  # Fill missing values with 0\n",
        "df_fraud.dropna(inplace=True)  # Drop rows with missing values\n"
      ],
      "metadata": {
        "id": "sbeVk-bRPdxb"
      },
      "execution_count": null,
      "outputs": []
    },
    {
      "cell_type": "code",
      "source": [
        "# Operating on Null Values\n",
        "missing_values = df_fraud.isnull().sum()  # Count missing values per column"
      ],
      "metadata": {
        "id": "eYxGRqUrPg8C"
      },
      "execution_count": null,
      "outputs": []
    },
    {
      "cell_type": "code",
      "source": [
        "# Hierarchical Indexing\n",
        "df_fraud.set_index([\"Fraudulent\", \"Account_Age\"], inplace=True)\n"
      ],
      "metadata": {
        "id": "j7En5QynPqll"
      },
      "execution_count": null,
      "outputs": []
    },
    {
      "cell_type": "code",
      "source": [
        "# Reset Index\n",
        "df_fraud.reset_index(inplace=True)"
      ],
      "metadata": {
        "id": "pKR1YGfOPtMg"
      },
      "execution_count": null,
      "outputs": []
    },
    {
      "cell_type": "code",
      "source": [
        "# Additional Pandas Functions\n",
        "# Sorting Data\n",
        "sorted_df = df_fraud.sort_values(by=\"Transaction_Amount\", ascending=False)\n"
      ],
      "metadata": {
        "id": "YWI596B1PxRb"
      },
      "execution_count": null,
      "outputs": []
    },
    {
      "cell_type": "code",
      "source": [
        "# Grouping Data\n",
        "grouped_data = df_fraud.groupby(\"Fraudulent\")[\"Transaction_Amount\"].mean()\n"
      ],
      "metadata": {
        "id": "EQQ2cU3-P3SP"
      },
      "execution_count": null,
      "outputs": []
    },
    {
      "cell_type": "code",
      "source": [
        "# Aggregation Functions\n",
        "aggregated_data = df_fraud.agg({\n",
        "    \"Transaction_Amount\": [\"mean\", \"sum\", \"min\", \"max\", \"std\"],\n",
        "    \"Account_Age\": [\"mean\", \"count\"]\n",
        "})\n"
      ],
      "metadata": {
        "id": "WyB1iaYgP6TM"
      },
      "execution_count": null,
      "outputs": []
    },
    {
      "cell_type": "code",
      "source": [
        "# Applying Functions to Data\n",
        "scaled_transactions = df_fraud[\"Transaction_Amount\"].apply(lambda x: x / 1000)\n",
        "df_fraud[\"Scaled_Transactions\"] = scaled_transactions\n"
      ],
      "metadata": {
        "id": "yapREjOnP9kM"
      },
      "execution_count": null,
      "outputs": []
    },
    {
      "cell_type": "code",
      "source": [
        "# Filtering Data\n",
        "high_value_transactions = df_fraud[df_fraud[\"Transaction_Amount\"] > 2000]"
      ],
      "metadata": {
        "id": "wknDZgddQA0-"
      },
      "execution_count": null,
      "outputs": []
    },
    {
      "cell_type": "code",
      "source": [
        "# Merging DataFrames\n",
        "dummy_data = pd.DataFrame({\"Fraudulent\": [0, 1], \"Fraud_Description\": [\"Legit\", \"Fraud\"]})\n",
        "merged_df = df_fraud.merge(dummy_data, on=\"Fraudulent\", how=\"left\")"
      ],
      "metadata": {
        "id": "y2QgvLQMQEh0"
      },
      "execution_count": null,
      "outputs": []
    },
    {
      "cell_type": "code",
      "source": [
        "# Pivot Tables\n",
        "pivot_table = df_fraud.pivot_table(values=\"Transaction_Amount\", index=\"Fraudulent\", columns=\"Account_Age\", aggfunc=\"mean\")\n"
      ],
      "metadata": {
        "id": "gRUTm0wrQHzV"
      },
      "execution_count": null,
      "outputs": []
    },
    {
      "cell_type": "code",
      "source": [
        "# One-Hot Encoding for Categorical Data\n",
        "if \"Transaction_Type\" in df.columns:\n",
        "    df_fraud = pd.get_dummies(df, columns=[\"Transaction_Type\"], drop_first=True)\n"
      ],
      "metadata": {
        "id": "r3WkRMqbQLHS"
      },
      "execution_count": null,
      "outputs": []
    },
    {
      "cell_type": "code",
      "source": [
        "# Descriptive Statistics\n",
        "summary_statistics = df_fraud.describe()"
      ],
      "metadata": {
        "id": "tXz04TrMQObh"
      },
      "execution_count": null,
      "outputs": []
    },
    {
      "cell_type": "code",
      "source": [
        "# Rolling and Expanding Window Functions\n",
        "df_fraud[\"Rolling_Mean\"] = df_fraud[\"Transaction_Amount\"].rolling(window=5).mean()\n",
        "df_fraud[\"Expanding_Mean\"] = df_fraud[\"Transaction_Amount\"].expanding().mean()"
      ],
      "metadata": {
        "id": "3DI_2KI7V9np"
      },
      "execution_count": null,
      "outputs": []
    },
    {
      "cell_type": "code",
      "source": [
        "# Duplicates Handling\n",
        "duplicates_count = df_fraud.duplicated().sum()\n",
        "df_fraud.drop_duplicates(inplace=True)"
      ],
      "metadata": {
        "id": "Y1m-JglhWB6C"
      },
      "execution_count": null,
      "outputs": []
    },
    {
      "cell_type": "code",
      "source": [
        "# Value Counts\n",
        "fraud_counts = df_fraud[\"Fraudulent\"].value_counts()\n"
      ],
      "metadata": {
        "id": "KJe0krX7WVdd"
      },
      "execution_count": null,
      "outputs": []
    },
    {
      "cell_type": "code",
      "source": [
        "# Memory Usage Optimization\n",
        "df_fraud.info(memory_usage=\"deep\")\n"
      ],
      "metadata": {
        "colab": {
          "base_uri": "https://localhost:8080/"
        },
        "id": "E3rmYE1kWZj3",
        "outputId": "8c199842-21fc-42aa-fe39-a886d14ab33c"
      },
      "execution_count": null,
      "outputs": [
        {
          "output_type": "stream",
          "name": "stdout",
          "text": [
            "<class 'pandas.core.frame.DataFrame'>\n",
            "RangeIndex: 51000 entries, 0 to 50999\n",
            "Data columns (total 19 columns):\n",
            " #   Column                            Non-Null Count  Dtype  \n",
            "---  ------                            --------------  -----  \n",
            " 0   Transaction_ID                    51000 non-null  object \n",
            " 1   User_ID                           51000 non-null  int64  \n",
            " 2   Transaction_Amount                48480 non-null  float64\n",
            " 3   Time_of_Transaction               48448 non-null  float64\n",
            " 4   Device_Used                       48527 non-null  object \n",
            " 5   Location                          48453 non-null  object \n",
            " 6   Previous_Fraudulent_Transactions  51000 non-null  int64  \n",
            " 7   Account_Age                       51000 non-null  int64  \n",
            " 8   Number_of_Transactions_Last_24H   51000 non-null  int64  \n",
            " 9   Payment_Method                    48531 non-null  object \n",
            " 10  Fraudulent                        51000 non-null  int64  \n",
            " 11  Transaction_Type_Bank Transfer    51000 non-null  bool   \n",
            " 12  Transaction_Type_Bill Payment     51000 non-null  bool   \n",
            " 13  Transaction_Type_Online Purchase  51000 non-null  bool   \n",
            " 14  Transaction_Type_POS Payment      51000 non-null  bool   \n",
            " 15  Sqrt_Transaction                  48480 non-null  float64\n",
            " 16  Log_Transaction                   48480 non-null  float64\n",
            " 17  Rolling_Mean                      39623 non-null  float64\n",
            " 18  Expanding_Mean                    51000 non-null  float64\n",
            "dtypes: bool(4), float64(6), int64(5), object(4)\n",
            "memory usage: 16.8 MB\n"
          ]
        }
      ]
    },
    {
      "cell_type": "code",
      "source": [
        "# Combining Datasets\n",
        "# Creating a sample DataFrame to demonstrate concatenation\n",
        "new_data = pd.DataFrame({\"Transaction_Amount\": [500, 1500], \"Fraudulent\": [1, 0], \"Account_Age\": [2, 5]})"
      ],
      "metadata": {
        "id": "sLnSuSTtXg0i"
      },
      "execution_count": null,
      "outputs": []
    },
    {
      "cell_type": "code",
      "source": [
        "# Concatenation\n",
        "concatenated_df = pd.concat([df_fraud, new_data], ignore_index=True)\n"
      ],
      "metadata": {
        "id": "Dgt2L9qyXidW"
      },
      "execution_count": null,
      "outputs": []
    },
    {
      "cell_type": "code",
      "source": [
        "# Append (deprecated, but similar to concat)\n",
        "appended_df = pd.concat([df_fraud, new_data], ignore_index=True)\n"
      ],
      "metadata": {
        "id": "eDlAH88GXnR9"
      },
      "execution_count": null,
      "outputs": []
    },
    {
      "cell_type": "code",
      "source": [
        "# Merge with another DataFrame\n",
        "merged_df_new = df_fraud.merge(dummy_data, on=\"Fraudulent\", how=\"inner\")\n"
      ],
      "metadata": {
        "id": "FpnObBaLXtui"
      },
      "execution_count": null,
      "outputs": []
    },
    {
      "cell_type": "code",
      "source": [
        "# Joins (Using set_index for demonstration)\n",
        "df_fraud.set_index(\"Fraudulent\", inplace=True)\n",
        "joined_df = df_fraud.join(dummy_data.set_index(\"Fraudulent\"), on=\"Fraudulent\")\n",
        "df_fraud.reset_index(inplace=True)\n"
      ],
      "metadata": {
        "id": "_eidHFirXyYh"
      },
      "execution_count": null,
      "outputs": []
    },
    {
      "cell_type": "code",
      "source": [
        "# ------------------------- Categorical Data Handling -------------------------\n",
        "if 'Transaction_Type' in df.columns:\n",
        "    df['Transaction_Type'] = df['Transaction_Type'].astype('category')\n",
        "    category_codes = df['Transaction_Type'].cat.codes\n",
        "    df['Transaction_Type_Code'] = category_codes\n",
        "print(\"Category Codes:\\n\", df[['Transaction_Type', 'Transaction_Type_Code']].head())\n"
      ],
      "metadata": {
        "colab": {
          "base_uri": "https://localhost:8080/"
        },
        "id": "QVZEyi-LZGJ9",
        "outputId": "135e17ae-8dc8-4aff-a94d-83243dd01ac1"
      },
      "execution_count": null,
      "outputs": [
        {
          "output_type": "stream",
          "name": "stdout",
          "text": [
            "Category Codes:\n",
            "   Transaction_Type  Transaction_Type_Code\n",
            "0   ATM Withdrawal                      0\n",
            "1   ATM Withdrawal                      0\n",
            "2   ATM Withdrawal                      0\n",
            "3     Bill Payment                      2\n",
            "4      POS Payment                      4\n"
          ]
        }
      ]
    },
    {
      "cell_type": "code",
      "source": [
        "# ------------------------- MultiIndexing -------------------------\n",
        "if 'Fraudulent' in df.columns and 'Transaction_Amount' in df.columns:\n",
        "    df.set_index(['Fraudulent', 'Transaction_Amount'], inplace=True)\n",
        "    print(\"\\nMultiIndex DataFrame:\\n\", df.head())\n",
        "    df.reset_index(inplace=True)"
      ],
      "metadata": {
        "colab": {
          "base_uri": "https://localhost:8080/"
        },
        "id": "URUAUL42ZH-3",
        "outputId": "28136356-6a3a-4d1c-b074-b3703b99b4e6"
      },
      "execution_count": null,
      "outputs": [
        {
          "output_type": "stream",
          "name": "stdout",
          "text": [
            "\n",
            "MultiIndex DataFrame:\n",
            "                               Transaction_ID  User_ID Transaction_Type  \\\n",
            "Fraudulent Transaction_Amount                                            \n",
            "0          1292.76                        T1     4174   ATM Withdrawal   \n",
            "           1554.58                        T2     4507   ATM Withdrawal   \n",
            "           2395.02                        T3     1860   ATM Withdrawal   \n",
            "           100.10                         T4     2294     Bill Payment   \n",
            "           1490.50                        T5     2130      POS Payment   \n",
            "\n",
            "                               Time_of_Transaction Device_Used       Location  \\\n",
            "Fraudulent Transaction_Amount                                                   \n",
            "0          1292.76                            16.0      Tablet  San Francisco   \n",
            "           1554.58                            13.0      Mobile       New York   \n",
            "           2395.02                             NaN      Mobile            NaN   \n",
            "           100.10                             15.0     Desktop        Chicago   \n",
            "           1490.50                            19.0      Mobile  San Francisco   \n",
            "\n",
            "                               Previous_Fraudulent_Transactions  Account_Age  \\\n",
            "Fraudulent Transaction_Amount                                                  \n",
            "0          1292.76                                            0          119   \n",
            "           1554.58                                            4           79   \n",
            "           2395.02                                            3          115   \n",
            "           100.10                                             4            3   \n",
            "           1490.50                                            2           57   \n",
            "\n",
            "                               Number_of_Transactions_Last_24H Payment_Method  \\\n",
            "Fraudulent Transaction_Amount                                                   \n",
            "0          1292.76                                          13     Debit Card   \n",
            "           1554.58                                           3    Credit Card   \n",
            "           2395.02                                           9            NaN   \n",
            "           100.10                                            4            UPI   \n",
            "           1490.50                                           7    Credit Card   \n",
            "\n",
            "                               Transaction_Type_Code  \n",
            "Fraudulent Transaction_Amount                         \n",
            "0          1292.76                                 0  \n",
            "           1554.58                                 0  \n",
            "           2395.02                                 0  \n",
            "           100.10                                  2  \n",
            "           1490.50                                 4  \n"
          ]
        }
      ]
    },
    {
      "cell_type": "code",
      "source": [
        "# ------------------------- Text Data Handling -------------------------\n",
        "if 'Transaction_Description' in df.columns:\n",
        "    df['Text_Lower'] = df['Transaction_Description'].str.lower()\n",
        "    df['Contains_Fraud'] = df['Transaction_Description'].str.contains('fraud', case=False, na=False)\n",
        "    df['Replaced_Text'] = df['Transaction_Description'].str.replace('fraud', '***', regex=True)\n",
        "    print(\"\\nText Data Operations:\\n\", df[['Transaction_Description', 'Text_Lower', 'Contains_Fraud', 'Replaced_Text']].head())\n"
      ],
      "metadata": {
        "id": "Lc6fg6IqZMbw"
      },
      "execution_count": null,
      "outputs": []
    },
    {
      "cell_type": "code",
      "source": [
        "# ------------------------- Statistical & Analytical Functions -------------------------\n",
        "if 'Transaction_Amount' in df.columns:\n",
        "    median_values = df['Transaction_Amount'].median()\n",
        "    mode_values = df['Transaction_Amount'].mode().tolist()\n",
        "    cumsum_values = df['Transaction_Amount'].cumsum().tolist()\n",
        "    diff_values = df['Transaction_Amount'].diff().tolist()\n",
        "    print(f\"\\nMedian: {median_values}, Mode: {mode_values}, Cumulative Sum: {cumsum_values[:5]}, Differences: {diff_values[:5]}\")\n"
      ],
      "metadata": {
        "colab": {
          "base_uri": "https://localhost:8080/"
        },
        "id": "dQHH0Ww3ZRQn",
        "outputId": "8c844e94-6807-403f-bed3-6c7cf2763737"
      },
      "execution_count": null,
      "outputs": [
        {
          "output_type": "stream",
          "name": "stdout",
          "text": [
            "\n",
            "Median: 2524.1000000000004, Mode: [49997.8], Cumulative Sum: [1292.76, 2847.34, 5242.360000000001, 5342.460000000001, 6832.960000000001], Differences: [nan, 261.81999999999994, 840.44, -2294.92, 1390.4]\n"
          ]
        }
      ]
    },
    {
      "cell_type": "code",
      "source": [
        "# ------------------------- Reshaping Data -------------------------\n",
        "if 'Fraudulent' in df.columns and 'Transaction_Amount' in df.columns:\n",
        "    melted_df = df.melt(id_vars=['Fraudulent'], value_vars=['Transaction_Amount'])\n",
        "    print(\"\\nMelted DataFrame:\\n\", melted_df.head())\n",
        "    pivot_df = df.pivot_table(index='Fraudulent', columns='Transaction_Amount', aggfunc='count')\n",
        "    print(\"\\nPivot DataFrame:\\n\", pivot_df.head())\n"
      ],
      "metadata": {
        "colab": {
          "base_uri": "https://localhost:8080/"
        },
        "id": "xiNw-zNCZVi2",
        "outputId": "5d01bf7b-7ab3-4ff1-eb34-cb81a9128239"
      },
      "execution_count": null,
      "outputs": [
        {
          "output_type": "stream",
          "name": "stdout",
          "text": [
            "\n",
            "Melted DataFrame:\n",
            "    Fraudulent            variable    value\n",
            "0           0  Transaction_Amount  1292.76\n",
            "1           0  Transaction_Amount  1554.58\n",
            "2           0  Transaction_Amount  2395.02\n",
            "3           0  Transaction_Amount   100.10\n",
            "4           0  Transaction_Amount  1490.50\n",
            "\n",
            "Pivot DataFrame:\n",
            "                    Account_Age                                               \\\n",
            "Transaction_Amount    5.03     5.04     5.08     5.23     5.47     5.49       \n",
            "Fraudulent                                                                    \n",
            "0                          1.0      1.0      1.0      1.0      1.0      1.0   \n",
            "1                          NaN      NaN      NaN      NaN      NaN      NaN   \n",
            "\n",
            "                                                        ...  User_ID           \\\n",
            "Transaction_Amount 5.52     5.55     5.63     5.65      ... 4998.95  4999.09    \n",
            "Fraudulent                                              ...                     \n",
            "0                       1.0      1.0      1.0      1.0  ...      1.0      1.0   \n",
            "1                       NaN      NaN      NaN      NaN  ...      NaN      NaN   \n",
            "\n",
            "                                                                          \\\n",
            "Transaction_Amount 4999.12  4999.16  4999.21  4999.38  4999.45  4999.70    \n",
            "Fraudulent                                                                 \n",
            "0                       1.0      1.0      1.0      1.0      1.0      1.0   \n",
            "1                       NaN      NaN      NaN      NaN      NaN      NaN   \n",
            "\n",
            "                                      \n",
            "Transaction_Amount 4999.78  49997.80  \n",
            "Fraudulent                            \n",
            "0                       1.0    476.0  \n",
            "1                       NaN     32.0  \n",
            "\n",
            "[2 rows x 493031 columns]\n"
          ]
        }
      ]
    },
    {
      "cell_type": "code",
      "source": [
        "# ------------------------- Performance Optimization -------------------------\n",
        "memory_usage = df.memory_usage(deep=True)\n",
        "if 'Transaction_Amount' in df.columns:\n",
        "    df['Transaction_Amount'] = df['Transaction_Amount'].astype('float32')\n",
        "optimized_memory_usage = df.memory_usage(deep=True)\n",
        "print(\"\\nOriginal Memory Usage:\\n\", memory_usage)\n",
        "print(\"\\nOptimized Memory Usage:\\n\", optimized_memory_usage)\n"
      ],
      "metadata": {
        "colab": {
          "base_uri": "https://localhost:8080/"
        },
        "id": "g3yghLVMZaOn",
        "outputId": "a1aae0cf-85de-4738-ac24-40350ff071a0"
      },
      "execution_count": null,
      "outputs": [
        {
          "output_type": "stream",
          "name": "stdout",
          "text": [
            "\n",
            "Original Memory Usage:\n",
            " Index                                   132\n",
            "Fraudulent                           408000\n",
            "Transaction_Amount                   408000\n",
            "Transaction_ID                      3201668\n",
            "User_ID                              408000\n",
            "Transaction_Type                      51522\n",
            "Time_of_Transaction                  408000\n",
            "Device_Used                         3164372\n",
            "Location                            3230433\n",
            "Previous_Fraudulent_Transactions     408000\n",
            "Account_Age                          408000\n",
            "Number_of_Transactions_Last_24H      408000\n",
            "Payment_Method                      3276808\n",
            "Transaction_Type_Code                 51000\n",
            "dtype: int64\n",
            "\n",
            "Optimized Memory Usage:\n",
            " Index                                   132\n",
            "Fraudulent                           408000\n",
            "Transaction_Amount                   204000\n",
            "Transaction_ID                      3201668\n",
            "User_ID                              408000\n",
            "Transaction_Type                      51522\n",
            "Time_of_Transaction                  408000\n",
            "Device_Used                         3164372\n",
            "Location                            3230433\n",
            "Previous_Fraudulent_Transactions     408000\n",
            "Account_Age                          408000\n",
            "Number_of_Transactions_Last_24H      408000\n",
            "Payment_Method                      3276808\n",
            "Transaction_Type_Code                 51000\n",
            "dtype: int64\n"
          ]
        }
      ]
    },
    {
      "cell_type": "code",
      "source": [
        "# Printing results\n",
        "print(\"Indexed Transaction:\", indexed_transaction)\n",
        "print()\n",
        "print(\"Sliced DataFrame:\\n\", sliced_dataframe)\n",
        "print()\n",
        "if \"Transaction_Amount\" in df_fraud.columns:\n",
        "    df_fraud[\"Sqrt_Transaction\"] = np.sqrt(df_fraud[\"Transaction_Amount\"].clip(lower=0))  # Prevent negative values\n",
        "    df_fraud[\"Log_Transaction\"] = np.log1p(df_fraud[\"Transaction_Amount\"].clip(lower=0.0001))  # Avoid log(0) error\n",
        "else:\n",
        "    print(\"Error: 'Transaction_Amount' column is missing from the dataset.\")\n",
        "print()\n",
        "print(\"Log Transactions:\\n\", df_fraud[\"Log_Transaction\"].head())\n",
        "print()\n"
      ],
      "metadata": {
        "colab": {
          "base_uri": "https://localhost:8080/"
        },
        "id": "BF38DlX2QS3s",
        "outputId": "1f98a139-a242-48aa-8d45-187c86365801"
      },
      "execution_count": null,
      "outputs": [
        {
          "output_type": "stream",
          "name": "stdout",
          "text": [
            "Indexed Transaction: 2372.04\n",
            "\n",
            "Sliced DataFrame:\n",
            "    Transaction_Amount  Fraudulent  Account_Age\n",
            "0             1292.76           0          119\n",
            "1             1554.58           0           79\n",
            "2             2395.02           0          115\n",
            "3              100.10           0            3\n",
            "4             1490.50           0           57\n",
            "5             2372.04           0           96\n",
            "6              544.81           1            6\n",
            "7              635.75           0           13\n",
            "8             2318.87           0          110\n",
            "9             3656.17           0           66\n",
            "\n",
            "\n",
            "Log Transactions:\n",
            " 0    7.165308\n",
            "1    7.349604\n",
            "2    7.781564\n",
            "3    4.616110\n",
            "4    7.307538\n",
            "Name: Log_Transaction, dtype: float64\n",
            "\n"
          ]
        }
      ]
    },
    {
      "cell_type": "code",
      "source": [
        "print(\"Hierarchical Indexed DataFrame:\\n\", df_fraud.head())\n",
        "print()\n",
        "print(\"Sorted DataFrame:\\n\", sorted_df.head())\n",
        "print()\n"
      ],
      "metadata": {
        "colab": {
          "base_uri": "https://localhost:8080/"
        },
        "id": "DG71id1iUnaj",
        "outputId": "1c6644c8-0e25-4600-a28a-6ffbf18cfa6c"
      },
      "execution_count": null,
      "outputs": [
        {
          "output_type": "stream",
          "name": "stdout",
          "text": [
            "Hierarchical Indexed DataFrame:\n",
            "   Transaction_ID  User_ID  Transaction_Amount  Time_of_Transaction  \\\n",
            "0             T1     4174             1292.76                 16.0   \n",
            "1             T2     4507             1554.58                 13.0   \n",
            "2             T3     1860             2395.02                  NaN   \n",
            "3             T4     2294              100.10                 15.0   \n",
            "4             T5     2130             1490.50                 19.0   \n",
            "\n",
            "  Device_Used       Location  Previous_Fraudulent_Transactions  Account_Age  \\\n",
            "0      Tablet  San Francisco                                 0          119   \n",
            "1      Mobile       New York                                 4           79   \n",
            "2      Mobile            NaN                                 3          115   \n",
            "3     Desktop        Chicago                                 4            3   \n",
            "4      Mobile  San Francisco                                 2           57   \n",
            "\n",
            "   Number_of_Transactions_Last_24H Payment_Method  Fraudulent  \\\n",
            "0                               13     Debit Card           0   \n",
            "1                                3    Credit Card           0   \n",
            "2                                9            NaN           0   \n",
            "3                                4            UPI           0   \n",
            "4                                7    Credit Card           0   \n",
            "\n",
            "   Transaction_Type_Bank Transfer  Transaction_Type_Bill Payment  \\\n",
            "0                           False                          False   \n",
            "1                           False                          False   \n",
            "2                           False                          False   \n",
            "3                           False                           True   \n",
            "4                           False                          False   \n",
            "\n",
            "   Transaction_Type_Online Purchase  Transaction_Type_POS Payment  \\\n",
            "0                             False                         False   \n",
            "1                             False                         False   \n",
            "2                             False                         False   \n",
            "3                             False                         False   \n",
            "4                             False                          True   \n",
            "\n",
            "   Sqrt_Transaction  Log_Transaction  \n",
            "0         35.954972         7.165308  \n",
            "1         39.428163         7.349604  \n",
            "2         48.938942         7.781564  \n",
            "3         10.004999         4.616110  \n",
            "4         38.606994         7.307538  \n",
            "\n",
            "Sorted DataFrame:\n",
            "        Fraudulent  Account_Age  Transaction_Amount  Sqrt_Transaction  \\\n",
            "42536           0          114             49997.8        223.601878   \n",
            "21838           0           36             49997.8        223.601878   \n",
            "42499           0           23             49997.8        223.601878   \n",
            "8588            0            9             49997.8        223.601878   \n",
            "50316           0           74             49997.8        223.601878   \n",
            "\n",
            "       Log_Transaction  Normalized_Transaction  \n",
            "42536        10.819754                9.505153  \n",
            "21838        10.819754                9.505153  \n",
            "42499        10.819754                9.505153  \n",
            "8588         10.819754                9.505153  \n",
            "50316        10.819754                9.505153  \n",
            "\n"
          ]
        }
      ]
    },
    {
      "cell_type": "code",
      "source": [
        "print(\"Grouped Data (Average Transaction Amount by Fraudulent):\\n\", grouped_data)\n",
        "print()\n",
        "print(\"Aggregated Data:\\n\", aggregated_data)\n",
        "print()\n",
        "print(\"Filtered High Value Transactions:\\n\", high_value_transactions.head())\n",
        "print()"
      ],
      "metadata": {
        "colab": {
          "base_uri": "https://localhost:8080/"
        },
        "id": "JA42Lp0lVk0m",
        "outputId": "c61f0947-c4ea-4ad0-b8e9-a7ee61cb8963"
      },
      "execution_count": null,
      "outputs": [
        {
          "output_type": "stream",
          "name": "stdout",
          "text": [
            "Grouped Data (Average Transaction Amount by Fraudulent):\n",
            " Fraudulent\n",
            "0    2842.253736\n",
            "1    2963.070072\n",
            "Name: Transaction_Amount, dtype: float64\n",
            "\n",
            "Aggregated Data:\n",
            "        Transaction_Amount   Account_Age\n",
            "mean         2.848200e+03     60.033902\n",
            "sum          1.452582e+08           NaN\n",
            "min          0.000000e+00           NaN\n",
            "max          4.999780e+04           NaN\n",
            "std          4.960425e+03           NaN\n",
            "count                 NaN  51000.000000\n",
            "\n",
            "Filtered High Value Transactions:\n",
            "     Fraudulent  Account_Age  Transaction_Amount  Sqrt_Transaction  \\\n",
            "2            0          115             2395.02         48.938942   \n",
            "5            0           96             2372.04         48.703593   \n",
            "8            0          110             2318.87         48.154647   \n",
            "9            0           66             3656.17         60.466272   \n",
            "11           0           68             2733.84         52.286136   \n",
            "\n",
            "    Log_Transaction  Normalized_Transaction  Scaled_Transactions  \n",
            "2          7.781564               -0.091359              2.39502  \n",
            "5          7.771927               -0.095992              2.37204  \n",
            "8          7.749266               -0.106711              2.31887  \n",
            "9          8.204445                0.162883              3.65617  \n",
            "11         7.913828               -0.023054              2.73384  \n",
            "\n"
          ]
        }
      ]
    },
    {
      "cell_type": "code",
      "source": [
        "print(\"Missing Values Count:\\n\", missing_values)\n",
        "print()\n",
        "\n",
        "print(\"Merged DataFrame:\\n\", merged_df.head())\n",
        "print()\n"
      ],
      "metadata": {
        "colab": {
          "base_uri": "https://localhost:8080/"
        },
        "id": "vIfVr7HxVNRC",
        "outputId": "0b0a5e28-5677-4edb-c090-d9c528cda7b2"
      },
      "execution_count": null,
      "outputs": [
        {
          "output_type": "stream",
          "name": "stdout",
          "text": [
            "Missing Values Count:\n",
            " Transaction_Amount        0\n",
            "Fraudulent                0\n",
            "Account_Age               0\n",
            "Sqrt_Transaction          0\n",
            "Log_Transaction           0\n",
            "Normalized_Transaction    0\n",
            "dtype: int64\n",
            "\n",
            "Merged DataFrame:\n",
            "    Fraudulent  Account_Age  Transaction_Amount  Sqrt_Transaction  \\\n",
            "0           0          119             1292.76         35.954972   \n",
            "1           0           79             1554.58         39.428163   \n",
            "2           0          115             2395.02         48.938942   \n",
            "3           0            3              100.10         10.004999   \n",
            "4           0           57             1490.50         38.606994   \n",
            "\n",
            "   Log_Transaction  Normalized_Transaction  Scaled_Transactions  \\\n",
            "0         7.165308               -0.313570              1.29276   \n",
            "1         7.349604               -0.260788              1.55458   \n",
            "2         7.781564               -0.091359              2.39502   \n",
            "3         4.616110               -0.554005              0.10010   \n",
            "4         7.307538               -0.273706              1.49050   \n",
            "\n",
            "  Fraud_Description  \n",
            "0             Legit  \n",
            "1             Legit  \n",
            "2             Legit  \n",
            "3             Legit  \n",
            "4             Legit  \n",
            "\n"
          ]
        }
      ]
    },
    {
      "cell_type": "code",
      "source": [
        "print(\"Pivot Table:\\n\", pivot_table)\n",
        "print()\n",
        "print(\"Summary Statistics:\\n\", summary_statistics)\n",
        "print()"
      ],
      "metadata": {
        "colab": {
          "base_uri": "https://localhost:8080/"
        },
        "id": "uziXHKPCVUAQ",
        "outputId": "bddab9e7-6dde-4c83-90a5-d4433a98d410"
      },
      "execution_count": null,
      "outputs": [
        {
          "output_type": "stream",
          "name": "stdout",
          "text": [
            "Pivot Table:\n",
            " Account_Age          1            2            3            4            5    \\\n",
            "Fraudulent                                                                     \n",
            "0            2727.967783  2728.618032  2866.506854  2487.000644  3199.817831   \n",
            "1            2381.866190  3153.974483  3482.268621  2415.775500  1868.962143   \n",
            "\n",
            "Account_Age          6            7            8            9            10   \\\n",
            "Fraudulent                                                                     \n",
            "0            3271.388465  3010.721930  2585.425105  2972.943933  2590.983580   \n",
            "1            3839.535263  4715.352857  2248.062273  2175.485000  2286.867037   \n",
            "\n",
            "Account_Age  ...          110          111          112          113  \\\n",
            "Fraudulent   ...                                                       \n",
            "0            ...  2472.402817  2782.785286  2359.034518  2815.939610   \n",
            "1            ...  2355.346667  4029.612414  2191.338000  2050.957391   \n",
            "\n",
            "Account_Age          114          115          116          117          118  \\\n",
            "Fraudulent                                                                     \n",
            "0            2706.844699  3164.928138  2581.058728  2872.109898  2759.841293   \n",
            "1            2634.861538  6021.716154  2989.191250  4996.080000  2968.356800   \n",
            "\n",
            "Account_Age          119  \n",
            "Fraudulent                \n",
            "0            2765.426563  \n",
            "1            2322.585652  \n",
            "\n",
            "[2 rows x 119 columns]\n",
            "\n",
            "Summary Statistics:\n",
            "             User_ID  Transaction_Amount  Time_of_Transaction  \\\n",
            "count  51000.000000        48480.000000         48448.000000   \n",
            "mean    3005.110176         2996.249784            11.488400   \n",
            "std     1153.121107         5043.932555             6.922954   \n",
            "min     1000.000000            5.030000             0.000000   \n",
            "25%     2007.000000         1270.552500             5.000000   \n",
            "50%     2996.000000         2524.100000            12.000000   \n",
            "75%     4006.000000         3787.240000            17.000000   \n",
            "max     4999.000000        49997.800000            23.000000   \n",
            "\n",
            "       Previous_Fraudulent_Transactions   Account_Age  \\\n",
            "count                      51000.000000  51000.000000   \n",
            "mean                           1.995725     60.033902   \n",
            "std                            1.415150     34.384131   \n",
            "min                            0.000000      1.000000   \n",
            "25%                            1.000000     30.000000   \n",
            "50%                            2.000000     60.000000   \n",
            "75%                            3.000000     90.000000   \n",
            "max                            4.000000    119.000000   \n",
            "\n",
            "       Number_of_Transactions_Last_24H    Fraudulent  \n",
            "count                     51000.000000  51000.000000  \n",
            "mean                          7.495588      0.049216  \n",
            "std                           4.020080      0.216320  \n",
            "min                           1.000000      0.000000  \n",
            "25%                           4.000000      0.000000  \n",
            "50%                           7.000000      0.000000  \n",
            "75%                          11.000000      0.000000  \n",
            "max                          14.000000      1.000000  \n",
            "\n"
          ]
        }
      ]
    },
    {
      "cell_type": "code",
      "source": [
        "print(\"Rolling Mean Transactions:\\n\", df_fraud[\"Rolling_Mean\"].head())\n",
        "print(\"Expanding Mean Transactions:\\n\", df_fraud[\"Expanding_Mean\"].head())\n",
        "print(\"Duplicate Rows Removed Count:\\n\", duplicates_count)\n",
        "print(\"Fraud Count Distribution:\\n\", fraud_counts)\n"
      ],
      "metadata": {
        "colab": {
          "base_uri": "https://localhost:8080/"
        },
        "id": "EkKDEl2xWfWa",
        "outputId": "087d108a-d9c2-400b-e8c9-715f64a81ce7"
      },
      "execution_count": null,
      "outputs": [
        {
          "output_type": "stream",
          "name": "stdout",
          "text": [
            "Rolling Mean Transactions:\n",
            " 0         NaN\n",
            "1         NaN\n",
            "2         NaN\n",
            "3         NaN\n",
            "4    1366.592\n",
            "Name: Rolling_Mean, dtype: float64\n",
            "Expanding Mean Transactions:\n",
            " 0    1292.760000\n",
            "1    1423.670000\n",
            "2    1747.453333\n",
            "3    1335.615000\n",
            "4    1366.592000\n",
            "Name: Expanding_Mean, dtype: float64\n",
            "Duplicate Rows Removed Count:\n",
            " 0\n",
            "Fraud Count Distribution:\n",
            " Fraudulent\n",
            "0    48490\n",
            "1     2510\n",
            "Name: count, dtype: int64\n"
          ]
        }
      ]
    },
    {
      "cell_type": "code",
      "source": [
        "print(\"Concatenated DataFrame:\\n\", concatenated_df.head())\n"
      ],
      "metadata": {
        "colab": {
          "base_uri": "https://localhost:8080/"
        },
        "id": "SW0jOIfvYFaH",
        "outputId": "c8f9cb12-0b33-4081-f5b5-09c34d1f47b5"
      },
      "execution_count": null,
      "outputs": [
        {
          "output_type": "stream",
          "name": "stdout",
          "text": [
            "Concatenated DataFrame:\n",
            "   Transaction_ID  User_ID  Transaction_Amount  Time_of_Transaction  \\\n",
            "0             T1   4174.0             1292.76                 16.0   \n",
            "1             T2   4507.0             1554.58                 13.0   \n",
            "2             T3   1860.0             2395.02                  NaN   \n",
            "3             T4   2294.0              100.10                 15.0   \n",
            "4             T5   2130.0             1490.50                 19.0   \n",
            "\n",
            "  Device_Used       Location  Previous_Fraudulent_Transactions  Account_Age  \\\n",
            "0      Tablet  San Francisco                               0.0          119   \n",
            "1      Mobile       New York                               4.0           79   \n",
            "2      Mobile            NaN                               3.0          115   \n",
            "3     Desktop        Chicago                               4.0            3   \n",
            "4      Mobile  San Francisco                               2.0           57   \n",
            "\n",
            "   Number_of_Transactions_Last_24H Payment_Method  Fraudulent  \\\n",
            "0                             13.0     Debit Card           0   \n",
            "1                              3.0    Credit Card           0   \n",
            "2                              9.0            NaN           0   \n",
            "3                              4.0            UPI           0   \n",
            "4                              7.0    Credit Card           0   \n",
            "\n",
            "  Transaction_Type_Bank Transfer Transaction_Type_Bill Payment  \\\n",
            "0                          False                         False   \n",
            "1                          False                         False   \n",
            "2                          False                         False   \n",
            "3                          False                          True   \n",
            "4                          False                         False   \n",
            "\n",
            "  Transaction_Type_Online Purchase Transaction_Type_POS Payment  \\\n",
            "0                            False                        False   \n",
            "1                            False                        False   \n",
            "2                            False                        False   \n",
            "3                            False                        False   \n",
            "4                            False                         True   \n",
            "\n",
            "   Sqrt_Transaction  Log_Transaction  Rolling_Mean  Expanding_Mean  \n",
            "0         35.954972         7.165308           NaN     1292.760000  \n",
            "1         39.428163         7.349604           NaN     1423.670000  \n",
            "2         48.938942         7.781564           NaN     1747.453333  \n",
            "3         10.004999         4.616110           NaN     1335.615000  \n",
            "4         38.606994         7.307538      1366.592     1366.592000  \n"
          ]
        }
      ]
    },
    {
      "cell_type": "code",
      "source": [
        "print(\"Merged DataFrame (New):\\n\", merged_df_new.head())\n"
      ],
      "metadata": {
        "colab": {
          "base_uri": "https://localhost:8080/"
        },
        "id": "hD3FA4vBYWFm",
        "outputId": "c99b8bb1-a8ad-4430-9cdd-04c586cb9797"
      },
      "execution_count": null,
      "outputs": [
        {
          "output_type": "stream",
          "name": "stdout",
          "text": [
            "Merged DataFrame (New):\n",
            "   Transaction_ID  User_ID  Transaction_Amount  Time_of_Transaction  \\\n",
            "0             T1     4174             1292.76                 16.0   \n",
            "1             T2     4507             1554.58                 13.0   \n",
            "2             T3     1860             2395.02                  NaN   \n",
            "3             T4     2294              100.10                 15.0   \n",
            "4             T5     2130             1490.50                 19.0   \n",
            "\n",
            "  Device_Used       Location  Previous_Fraudulent_Transactions  Account_Age  \\\n",
            "0      Tablet  San Francisco                                 0          119   \n",
            "1      Mobile       New York                                 4           79   \n",
            "2      Mobile            NaN                                 3          115   \n",
            "3     Desktop        Chicago                                 4            3   \n",
            "4      Mobile  San Francisco                                 2           57   \n",
            "\n",
            "   Number_of_Transactions_Last_24H Payment_Method  Fraudulent  \\\n",
            "0                               13     Debit Card           0   \n",
            "1                                3    Credit Card           0   \n",
            "2                                9            NaN           0   \n",
            "3                                4            UPI           0   \n",
            "4                                7    Credit Card           0   \n",
            "\n",
            "   Transaction_Type_Bank Transfer  Transaction_Type_Bill Payment  \\\n",
            "0                           False                          False   \n",
            "1                           False                          False   \n",
            "2                           False                          False   \n",
            "3                           False                           True   \n",
            "4                           False                          False   \n",
            "\n",
            "   Transaction_Type_Online Purchase  Transaction_Type_POS Payment  \\\n",
            "0                             False                         False   \n",
            "1                             False                         False   \n",
            "2                             False                         False   \n",
            "3                             False                         False   \n",
            "4                             False                          True   \n",
            "\n",
            "   Sqrt_Transaction  Log_Transaction  Rolling_Mean  Expanding_Mean  \\\n",
            "0         35.954972         7.165308           NaN     1292.760000   \n",
            "1         39.428163         7.349604           NaN     1423.670000   \n",
            "2         48.938942         7.781564           NaN     1747.453333   \n",
            "3         10.004999         4.616110           NaN     1335.615000   \n",
            "4         38.606994         7.307538      1366.592     1366.592000   \n",
            "\n",
            "  Fraud_Description  \n",
            "0             Legit  \n",
            "1             Legit  \n",
            "2             Legit  \n",
            "3             Legit  \n",
            "4             Legit  \n"
          ]
        }
      ]
    },
    {
      "cell_type": "code",
      "source": [
        "print(\"Joined DataFrame:\\n\", joined_df.head())\n"
      ],
      "metadata": {
        "colab": {
          "base_uri": "https://localhost:8080/"
        },
        "id": "vVSEpmvXYQ4j",
        "outputId": "12afd069-b482-40e4-fc9d-30450c243aaa"
      },
      "execution_count": null,
      "outputs": [
        {
          "output_type": "stream",
          "name": "stdout",
          "text": [
            "Joined DataFrame:\n",
            "            Transaction_ID  User_ID  Transaction_Amount  Time_of_Transaction  \\\n",
            "Fraudulent                                                                    \n",
            "0                      T1     4174             1292.76                 16.0   \n",
            "0                      T2     4507             1554.58                 13.0   \n",
            "0                      T3     1860             2395.02                  NaN   \n",
            "0                      T4     2294              100.10                 15.0   \n",
            "0                      T5     2130             1490.50                 19.0   \n",
            "\n",
            "           Device_Used       Location  Previous_Fraudulent_Transactions  \\\n",
            "Fraudulent                                                                \n",
            "0               Tablet  San Francisco                                 0   \n",
            "0               Mobile       New York                                 4   \n",
            "0               Mobile            NaN                                 3   \n",
            "0              Desktop        Chicago                                 4   \n",
            "0               Mobile  San Francisco                                 2   \n",
            "\n",
            "            Account_Age  Number_of_Transactions_Last_24H Payment_Method  \\\n",
            "Fraudulent                                                                \n",
            "0                   119                               13     Debit Card   \n",
            "0                    79                                3    Credit Card   \n",
            "0                   115                                9            NaN   \n",
            "0                     3                                4            UPI   \n",
            "0                    57                                7    Credit Card   \n",
            "\n",
            "            Transaction_Type_Bank Transfer  Transaction_Type_Bill Payment  \\\n",
            "Fraudulent                                                                  \n",
            "0                                    False                          False   \n",
            "0                                    False                          False   \n",
            "0                                    False                          False   \n",
            "0                                    False                           True   \n",
            "0                                    False                          False   \n",
            "\n",
            "            Transaction_Type_Online Purchase  Transaction_Type_POS Payment  \\\n",
            "Fraudulent                                                                   \n",
            "0                                      False                         False   \n",
            "0                                      False                         False   \n",
            "0                                      False                         False   \n",
            "0                                      False                         False   \n",
            "0                                      False                          True   \n",
            "\n",
            "            Sqrt_Transaction  Log_Transaction  Rolling_Mean  Expanding_Mean  \\\n",
            "Fraudulent                                                                    \n",
            "0                  35.954972         7.165308           NaN     1292.760000   \n",
            "0                  39.428163         7.349604           NaN     1423.670000   \n",
            "0                  48.938942         7.781564           NaN     1747.453333   \n",
            "0                  10.004999         4.616110           NaN     1335.615000   \n",
            "0                  38.606994         7.307538      1366.592     1366.592000   \n",
            "\n",
            "           Fraud_Description  \n",
            "Fraudulent                    \n",
            "0                      Legit  \n",
            "0                      Legit  \n",
            "0                      Legit  \n",
            "0                      Legit  \n",
            "0                      Legit  \n"
          ]
        }
      ]
    }
  ]
}